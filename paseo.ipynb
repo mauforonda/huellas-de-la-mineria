{
 "cells": [
  {
   "cell_type": "markdown",
   "id": "d33f2645-c354-4e93-820a-e70284474b72",
   "metadata": {
    "tags": [],
    "user_expressions": []
   },
   "source": [
    "Quiero recolectar huellas de la minería en el nor-oeste de Bolivia. No existe un mapa referencial reciente que pueda utilizar para guiar esta exploración. La idea es tomar como puntos de partida reportes del trabajo forense que realizan CEDIB, mongabay y otros, y de ahí explorar libremente. El único límite es la paciencia.  \n",
    "\n",
    "En este cuaderno construyo intrumentos que me permitan explorar por el territorio nacional via imágenes de Planet NICFI. En particular:\n",
    "\n",
    "- Una mapa donde pueda observar diferencias claras que podrían ser ocasionadas por actividad minera entre dos puntos en el tiempo.\n",
    "- Una función para capturar videos de cambios anuales en la vista que muestra el mapa.\n",
    "- Un índice de capturas y una vista con la ubicación de cada captura para comprender el trayecto y la cobertura hasta el momento.\n",
    "- Quizás vistas alternativas para indagar más."
   ]
  },
  {
   "cell_type": "code",
   "execution_count": 144,
   "id": "3aaeba04-f5e3-4067-b5a7-24690453d5a2",
   "metadata": {
    "tags": []
   },
   "outputs": [
    {
     "data": {
      "text/html": [
       "\n",
       "            <style>\n",
       "                .geemap-dark {\n",
       "                    --jp-widgets-color: white;\n",
       "                    --jp-widgets-label-color: white;\n",
       "                    --jp-ui-font-color1: white;\n",
       "                    --jp-layout-color2: #454545;\n",
       "                    background-color: #383838;\n",
       "                }\n",
       "                    \n",
       "                .geemap-dark .jupyter-button {\n",
       "                    --jp-layout-color3: #383838;\n",
       "                }\n",
       "                \n",
       "                .geemap-colab {\n",
       "                    background-color: var(--colab-primary-surface-color, white);\n",
       "                }\n",
       "                    \n",
       "                .geemap-colab .jupyter-button {\n",
       "                    --jp-layout-color3: var(--colab-primary-surface-color, white);\n",
       "                }\n",
       "            </style>\n",
       "            "
      ],
      "text/plain": [
       "<IPython.core.display.HTML object>"
      ]
     },
     "metadata": {},
     "output_type": "display_data"
    }
   ],
   "source": [
    "# Dependencias\n",
    "\n",
    "import geemap\n",
    "import requests\n",
    "import ee\n",
    "import json\n",
    "import os\n",
    "import datetime as dt\n",
    "import geopandas as gpd\n",
    "import pandas as pd\n",
    "from glob import glob\n",
    "from IPython.display import display, Markdown, Image, Video"
   ]
  },
  {
   "cell_type": "code",
   "execution_count": 4,
   "id": "ff7e7011-f722-4dc6-9702-aa447e9718b4",
   "metadata": {
    "tags": []
   },
   "outputs": [
    {
     "data": {
      "text/html": [
       "\n",
       "            <style>\n",
       "                .geemap-dark {\n",
       "                    --jp-widgets-color: white;\n",
       "                    --jp-widgets-label-color: white;\n",
       "                    --jp-ui-font-color1: white;\n",
       "                    --jp-layout-color2: #454545;\n",
       "                    background-color: #383838;\n",
       "                }\n",
       "                    \n",
       "                .geemap-dark .jupyter-button {\n",
       "                    --jp-layout-color3: #383838;\n",
       "                }\n",
       "                \n",
       "                .geemap-colab {\n",
       "                    background-color: var(--colab-primary-surface-color, white);\n",
       "                }\n",
       "                    \n",
       "                .geemap-colab .jupyter-button {\n",
       "                    --jp-layout-color3: var(--colab-primary-surface-color, white);\n",
       "                }\n",
       "            </style>\n",
       "            "
      ],
      "text/plain": [
       "<IPython.core.display.HTML object>"
      ]
     },
     "metadata": {},
     "output_type": "display_data"
    }
   ],
   "source": [
    "# Inicializar Google Earth Engine\n",
    "ee.Initialize()"
   ]
  },
  {
   "cell_type": "markdown",
   "id": "10519166-bc82-47dd-b4ca-814529e7fb58",
   "metadata": {
    "tags": [],
    "user_expressions": []
   },
   "source": [
    " Defino\n",
    " \n",
    " - un punto desde donde quiero comenzar a explorar (\"Mapiri\")\n",
    " - el recuadro que quiero consultar (\"Bolivia\") \n",
    " - y un tiempo desde cuando quiero consultar imágenes (junio de 2016, por limitaciones en la fuente)."
   ]
  },
  {
   "cell_type": "code",
   "execution_count": 13,
   "id": "f72da358-0f97-4e51-93d1-d9f0e0e760e6",
   "metadata": {
    "tags": []
   },
   "outputs": [
    {
     "data": {
      "text/html": [
       "\n",
       "            <style>\n",
       "                .geemap-dark {\n",
       "                    --jp-widgets-color: white;\n",
       "                    --jp-widgets-label-color: white;\n",
       "                    --jp-ui-font-color1: white;\n",
       "                    --jp-layout-color2: #454545;\n",
       "                    background-color: #383838;\n",
       "                }\n",
       "                    \n",
       "                .geemap-dark .jupyter-button {\n",
       "                    --jp-layout-color3: #383838;\n",
       "                }\n",
       "                \n",
       "                .geemap-colab {\n",
       "                    background-color: var(--colab-primary-surface-color, white);\n",
       "                }\n",
       "                    \n",
       "                .geemap-colab .jupyter-button {\n",
       "                    --jp-layout-color3: var(--colab-primary-surface-color, white);\n",
       "                }\n",
       "            </style>\n",
       "            "
      ],
      "text/plain": [
       "<IPython.core.display.HTML object>"
      ]
     },
     "metadata": {},
     "output_type": "display_data"
    }
   ],
   "source": [
    "def nominatim(query):\n",
    "    \"\"\"\n",
    "    Consulta coordenadas referenciales utilizando \n",
    "    nominatim de OSM.\n",
    "    \"\"\"\n",
    "    \n",
    "    url = f\"https://nominatim.openstreetmap.org/search.php?q={query}&polygon_geojson=0&format=jsonv2\"\n",
    "    response = requests.get(url)\n",
    "    data = response.json()\n",
    "    \n",
    "    if len(data) > 0:\n",
    "        \n",
    "        d = data[0]\n",
    "        boundingbox = d['boundingbox']\n",
    "    \n",
    "        x = float(d['lon'])\n",
    "        y = float(d['lat'])\n",
    "\n",
    "        bbox = ee.Geometry.BBox(\n",
    "            west = float(boundingbox[2]),\n",
    "            east = float(boundingbox[3]),\n",
    "            south = float(boundingbox[0]),\n",
    "            north = float(boundingbox[1])\n",
    "        )\n",
    "\n",
    "        return {\n",
    "            'center': [y, x],\n",
    "            'bbox': bbox\n",
    "        }\n",
    "    \n",
    "    else:\n",
    "        \n",
    "        return None"
   ]
  },
  {
   "cell_type": "code",
   "execution_count": 373,
   "id": "6e1b9a47-e562-42a8-a5fd-aabd39d37e7f",
   "metadata": {
    "tags": []
   },
   "outputs": [
    {
     "data": {
      "text/html": [
       "\n",
       "            <style>\n",
       "                .geemap-dark {\n",
       "                    --jp-widgets-color: white;\n",
       "                    --jp-widgets-label-color: white;\n",
       "                    --jp-ui-font-color1: white;\n",
       "                    --jp-layout-color2: #454545;\n",
       "                    background-color: #383838;\n",
       "                }\n",
       "                    \n",
       "                .geemap-dark .jupyter-button {\n",
       "                    --jp-layout-color3: #383838;\n",
       "                }\n",
       "                \n",
       "                .geemap-colab {\n",
       "                    background-color: var(--colab-primary-surface-color, white);\n",
       "                }\n",
       "                    \n",
       "                .geemap-colab .jupyter-button {\n",
       "                    --jp-layout-color3: var(--colab-primary-surface-color, white);\n",
       "                }\n",
       "            </style>\n",
       "            "
      ],
      "text/plain": [
       "<IPython.core.display.HTML object>"
      ]
     },
     "metadata": {},
     "output_type": "display_data"
    }
   ],
   "source": [
    "bbox = nominatim('Bolivia')['bbox']\n",
    "center = nominatim('Mapiri, Bolivia')['center']\n",
    "start = dt.datetime(2016,6,1)"
   ]
  },
  {
   "cell_type": "markdown",
   "id": "f737d59e-80e5-45c7-b4ce-d51d46a04084",
   "metadata": {
    "tags": [],
    "user_expressions": []
   },
   "source": [
    "El mapa principal es un panel con 3 vistas:\n",
    "\n",
    "- Una vista que incluye polígonos de áreas protegidas y un mapa base referencial.\n",
    "- Una vista a imágenes de Planet en color verdadero en junio de 2016.\n",
    "- Y una vista a imágenes de Planet en color verdadero en junio de 2023."
   ]
  },
  {
   "cell_type": "code",
   "execution_count": 27,
   "id": "81dd5d42-cff9-4e64-ad0b-277a1e3f418e",
   "metadata": {
    "tags": []
   },
   "outputs": [
    {
     "data": {
      "text/html": [
       "\n",
       "            <style>\n",
       "                .geemap-dark {\n",
       "                    --jp-widgets-color: white;\n",
       "                    --jp-widgets-label-color: white;\n",
       "                    --jp-ui-font-color1: white;\n",
       "                    --jp-layout-color2: #454545;\n",
       "                    background-color: #383838;\n",
       "                }\n",
       "                    \n",
       "                .geemap-dark .jupyter-button {\n",
       "                    --jp-layout-color3: #383838;\n",
       "                }\n",
       "                \n",
       "                .geemap-colab {\n",
       "                    background-color: var(--colab-primary-surface-color, white);\n",
       "                }\n",
       "                    \n",
       "                .geemap-colab .jupyter-button {\n",
       "                    --jp-layout-color3: var(--colab-primary-surface-color, white);\n",
       "                }\n",
       "            </style>\n",
       "            "
      ],
      "text/plain": [
       "<IPython.core.display.HTML object>"
      ]
     },
     "metadata": {},
     "output_type": "display_data"
    }
   ],
   "source": [
    "def get_nicfi(bbox, start, end=None):\n",
    "    \"\"\"\n",
    "    Retorna imágenes de Planet NICFI en Google Earth Engine\n",
    "    para el periodo `start` y `end` en un recuadro `bbox` \n",
    "    que es un objeto `ee.Geometry.BBox` de GEE. \n",
    "    Si `end` no es especificado, consulto la última \n",
    "    imagen disponible.\n",
    "    \"\"\"\n",
    "    \n",
    "    def ee_image2datetime(image):\n",
    "        return dt.datetime.fromisoformat(image.date().format().getInfo())\n",
    "    \n",
    "    def get_first_since(collection, since):\n",
    "        return (\n",
    "            collection.\n",
    "            filter(\n",
    "                ee.Filter.gt('system:time_end', int(since.timestamp() * 1e3))\n",
    "            ).\n",
    "            first()\n",
    "        )\n",
    "\n",
    "    collection = (\n",
    "        ee.\n",
    "        ImageCollection(\"projects/planet-nicfi/assets/basemaps/americas\").\n",
    "        filterBounds(bbox)\n",
    "    )\n",
    "\n",
    "    start_image = get_first_since(collection, start)\n",
    "\n",
    "    if end:\n",
    "        end_image = get_first_since(collection, end)\n",
    "    else:\n",
    "        end_image = collection.sort('system:time_start', False).first()\n",
    "    \n",
    "    return {\n",
    "        'start': {\n",
    "            'image': start_image, \n",
    "            'date': ee_image2datetime(start_image)\n",
    "        },\n",
    "        'end': {\n",
    "            'image': end_image, \n",
    "            'date': ee_image2datetime(end_image)\n",
    "        }\n",
    "    }"
   ]
  },
  {
   "cell_type": "code",
   "execution_count": 41,
   "id": "d4b3a4d0-800b-47e9-b62a-7900ddaa5fc9",
   "metadata": {
    "tags": []
   },
   "outputs": [
    {
     "data": {
      "text/html": [
       "\n",
       "            <style>\n",
       "                .geemap-dark {\n",
       "                    --jp-widgets-color: white;\n",
       "                    --jp-widgets-label-color: white;\n",
       "                    --jp-ui-font-color1: white;\n",
       "                    --jp-layout-color2: #454545;\n",
       "                    background-color: #383838;\n",
       "                }\n",
       "                    \n",
       "                .geemap-dark .jupyter-button {\n",
       "                    --jp-layout-color3: #383838;\n",
       "                }\n",
       "                \n",
       "                .geemap-colab {\n",
       "                    background-color: var(--colab-primary-surface-color, white);\n",
       "                }\n",
       "                    \n",
       "                .geemap-colab .jupyter-button {\n",
       "                    --jp-layout-color3: var(--colab-primary-surface-color, white);\n",
       "                }\n",
       "            </style>\n",
       "            "
      ],
      "text/plain": [
       "<IPython.core.display.HTML object>"
      ]
     },
     "metadata": {},
     "output_type": "display_data"
    }
   ],
   "source": [
    "def get_wdpa(bbox):\n",
    "    \"\"\"\n",
    "    Retorna una imagen de Google Earth Engine para \n",
    "    el World Database on Protected Areas (WDPA).\n",
    "    \"\"\"\n",
    "    \n",
    "    collection = (\n",
    "        ee.FeatureCollection(\"WCMC/WDPA/current/polygons\").\n",
    "        filterBounds(bbox)\n",
    "    )\n",
    "    \n",
    "    image = ee.Image().float().paint(collection, 'REP_AREA')\n",
    "    \n",
    "    return image"
   ]
  },
  {
   "cell_type": "code",
   "execution_count": 38,
   "id": "6d292061-0fa1-440b-8191-3f48f37cfb6c",
   "metadata": {
    "tags": []
   },
   "outputs": [
    {
     "data": {
      "text/html": [
       "\n",
       "            <style>\n",
       "                .geemap-dark {\n",
       "                    --jp-widgets-color: white;\n",
       "                    --jp-widgets-label-color: white;\n",
       "                    --jp-ui-font-color1: white;\n",
       "                    --jp-layout-color2: #454545;\n",
       "                    background-color: #383838;\n",
       "                }\n",
       "                    \n",
       "                .geemap-dark .jupyter-button {\n",
       "                    --jp-layout-color3: #383838;\n",
       "                }\n",
       "                \n",
       "                .geemap-colab {\n",
       "                    background-color: var(--colab-primary-surface-color, white);\n",
       "                }\n",
       "                    \n",
       "                .geemap-colab .jupyter-button {\n",
       "                    --jp-layout-color3: var(--colab-primary-surface-color, white);\n",
       "                }\n",
       "            </style>\n",
       "            "
      ],
      "text/plain": [
       "<IPython.core.display.HTML object>"
      ]
     },
     "metadata": {},
     "output_type": "display_data"
    }
   ],
   "source": [
    "# Parámetros de visualización para imágenes de Planet y WDPA.\n",
    "\n",
    "vis = {\n",
    "    'nicfi': {\n",
    "        'bands': ['R','G','B'],\n",
    "        'min':64,\n",
    "        'max':5454,\n",
    "        'gamma':1.8\n",
    "    },\n",
    "    'wdpa' : {\n",
    "          'palette': ['2ed033', '5aff05', '67b9ff', '5844ff', '0a7618', '2c05ff'],\n",
    "          'min': 0.0,\n",
    "          'max': 1550000.0,\n",
    "          'opacity': 0.2,\n",
    "        }\n",
    "}"
   ]
  },
  {
   "cell_type": "code",
   "execution_count": 353,
   "id": "ef87a30a-9042-4512-a775-4cbfdb1540c8",
   "metadata": {
    "tags": []
   },
   "outputs": [
    {
     "data": {
      "text/html": [
       "\n",
       "            <style>\n",
       "                .geemap-dark {\n",
       "                    --jp-widgets-color: white;\n",
       "                    --jp-widgets-label-color: white;\n",
       "                    --jp-ui-font-color1: white;\n",
       "                    --jp-layout-color2: #454545;\n",
       "                    background-color: #383838;\n",
       "                }\n",
       "                    \n",
       "                .geemap-dark .jupyter-button {\n",
       "                    --jp-layout-color3: #383838;\n",
       "                }\n",
       "                \n",
       "                .geemap-colab {\n",
       "                    background-color: var(--colab-primary-surface-color, white);\n",
       "                }\n",
       "                    \n",
       "                .geemap-colab .jupyter-button {\n",
       "                    --jp-layout-color3: var(--colab-primary-surface-color, white);\n",
       "                }\n",
       "            </style>\n",
       "            "
      ],
      "text/plain": [
       "<IPython.core.display.HTML object>"
      ]
     },
     "metadata": {},
     "output_type": "display_data"
    }
   ],
   "source": [
    "def linked_map(bbox, center, start, end=None, zoom=13):\n",
    "    \"\"\"\n",
    "    Construye un mapa con las 3 vistas sincronizadas \n",
    "    dentro del recuadro `bbox`, desde el punto `center`, \n",
    "    con imágenes de Planet en `start` y `end`.  \n",
    "    \"\"\"\n",
    "\n",
    "    nicfi = get_nicfi(bbox, start, end)\n",
    "    wdpa = get_wdpa(bbox)\n",
    "    \n",
    "    ee_objects = [ wdpa, nicfi['start']['image'], nicfi['end']['image'] ]\n",
    "    vis_params = [ vis['wdpa'], vis['nicfi'], vis['nicfi'] ]\n",
    "    labels = [\n",
    "        'WDPA',\n",
    "        f'NICFI {nicfi[\"start\"][\"date\"].strftime(\"%b %Y\")}',\n",
    "        f'NICFI {nicfi[\"end\"][\"date\"].strftime(\"%b %Y\")}'\n",
    "    ]\n",
    "\n",
    "    Map = geemap.linked_maps(\n",
    "        rows=1,\n",
    "        cols=3,\n",
    "        height='550px',\n",
    "        ee_objects=ee_objects,\n",
    "        vis_params=vis_params,\n",
    "        labels=labels,\n",
    "        basemap=\"HYBRID\",\n",
    "        center=center,\n",
    "        zoom=zoom,\n",
    "        toolbar_ctrl=True\n",
    "    )\n",
    "    \n",
    "    return Map"
   ]
  },
  {
   "cell_type": "markdown",
   "id": "6097c426-dd02-4096-9d1f-76880bb5124a",
   "metadata": {
    "tags": [],
    "user_expressions": []
   },
   "source": [
    "Paseo por este mapa y cuando encuentre algo interesante tomo un video de timelapse anual entre 2016 y 2023."
   ]
  },
  {
   "cell_type": "code",
   "execution_count": 177,
   "id": "e8b5cce2-24c4-4307-bb1a-02284b034b85",
   "metadata": {
    "tags": []
   },
   "outputs": [
    {
     "data": {
      "text/html": [
       "\n",
       "            <style>\n",
       "                .geemap-dark {\n",
       "                    --jp-widgets-color: white;\n",
       "                    --jp-widgets-label-color: white;\n",
       "                    --jp-ui-font-color1: white;\n",
       "                    --jp-layout-color2: #454545;\n",
       "                    background-color: #383838;\n",
       "                }\n",
       "                    \n",
       "                .geemap-dark .jupyter-button {\n",
       "                    --jp-layout-color3: #383838;\n",
       "                }\n",
       "                \n",
       "                .geemap-colab {\n",
       "                    background-color: var(--colab-primary-surface-color, white);\n",
       "                }\n",
       "                    \n",
       "                .geemap-colab .jupyter-button {\n",
       "                    --jp-layout-color3: var(--colab-primary-surface-color, white);\n",
       "                }\n",
       "            </style>\n",
       "            "
      ],
      "text/plain": [
       "<IPython.core.display.HTML object>"
      ]
     },
     "metadata": {},
     "output_type": "display_data"
    }
   ],
   "source": [
    "def get_view_state(view):\n",
    "    \"\"\"\n",
    "    Retorna coordenadas de la vista en un objeto de mapa. \n",
    "    \"\"\"\n",
    "    \n",
    "    state = view.get_manager_state()['state']\n",
    "    model = [state[k] for k in state.keys() if state[k]['model_name'] == 'LeafletMapModel'][-1]\n",
    "    state_params =  {i: model['state'][i] for i in ['north', 'south', 'east', 'west', 'center', 'zoom']}\n",
    "    return state_params"
   ]
  },
  {
   "cell_type": "code",
   "execution_count": 204,
   "id": "1d52a14f-33b5-465d-941e-9fd767981ee4",
   "metadata": {
    "tags": []
   },
   "outputs": [
    {
     "data": {
      "text/html": [
       "\n",
       "            <style>\n",
       "                .geemap-dark {\n",
       "                    --jp-widgets-color: white;\n",
       "                    --jp-widgets-label-color: white;\n",
       "                    --jp-ui-font-color1: white;\n",
       "                    --jp-layout-color2: #454545;\n",
       "                    background-color: #383838;\n",
       "                }\n",
       "                    \n",
       "                .geemap-dark .jupyter-button {\n",
       "                    --jp-layout-color3: #383838;\n",
       "                }\n",
       "                \n",
       "                .geemap-colab {\n",
       "                    background-color: var(--colab-primary-surface-color, white);\n",
       "                }\n",
       "                    \n",
       "                .geemap-colab .jupyter-button {\n",
       "                    --jp-layout-color3: var(--colab-primary-surface-color, white);\n",
       "                }\n",
       "            </style>\n",
       "            "
      ],
      "text/plain": [
       "<IPython.core.display.HTML object>"
      ]
     },
     "metadata": {},
     "output_type": "display_data"
    }
   ],
   "source": [
    "def nicfiTimelapse(view, start, directory='timelapse', fps=3):\n",
    "    \"\"\"\n",
    "    Produce un video de timelapse anual desde `start` \n",
    "    para el recuadro en la vista del mapa `view`, que guarda\n",
    "    en `directory` con un nombre que incluye información\n",
    "    sobre el tiempo y ubicación de cobertura.\n",
    "    \"\"\"\n",
    "\n",
    "    state = get_view_state(view)\n",
    "    \n",
    "    bbox = ee.Geometry.BBox(\n",
    "        west = state['west'],\n",
    "        east = state['east'],\n",
    "        south = state['south'],\n",
    "        north = state['north']\n",
    "    )\n",
    "    \n",
    "    nicfi = (\n",
    "        ee.\n",
    "        ImageCollection(\"projects/planet-nicfi/assets/basemaps/americas\").\n",
    "        filterBounds(bbox)\n",
    "    )\n",
    "    \n",
    "    domain = {\n",
    "        'start': start.strftime('%Y-%m-%d'),\n",
    "        'now': dt.datetime.now().strftime('%Y-%m-%d')\n",
    "    }\n",
    "    \n",
    "    filename = f\"nicfi_{domain['start']}_{domain['now']}_{state['center'][0]}_{state['center'][1]}\"\n",
    "    \n",
    "    timelapse = geemap.create_timelapse(\n",
    "        collection=nicfi,\n",
    "        start_date=domain['start'],\n",
    "        end_date=domain['now'],\n",
    "        region=bbox,\n",
    "        frequency='year',\n",
    "        bands=['R','G','B'],\n",
    "        frames_per_second=fps,\n",
    "        mp4=True,\n",
    "        out_gif=f'{directory}/{filename}.gif',\n",
    "        font_type='/home/m/.local/share/fonts/Archivo/static/Archivo-Medium.ttf',\n",
    "        font_size=15,\n",
    "        font_color=\"#f4f4f4\",\n",
    "        add_progress_bar=False,\n",
    "        title=\"© Planet NICFI\",\n",
    "        title_xy=('2%', '2%'),\n",
    "        text_xy=('2%', '5%'),\n",
    "        vis_params=vis['nicfi']\n",
    "    )\n",
    "    \n",
    "    os.remove(f'{directory}/{filename}.gif')\n",
    "    display(Video(f'{directory}/{filename}.mp4'))"
   ]
  },
  {
   "cell_type": "markdown",
   "id": "68882fa1-8598-490e-9104-08c50f42dde3",
   "metadata": {
    "tags": [],
    "user_expressions": []
   },
   "source": [
    "Luego de tomar varios videos, quiero asegurarme de no pasar por el mismo lugar demasiadas veces y guiar mejor mi ruta. Para eso creo un índice con la posición de cada captura y quizás datos adicionales como si se encuentra en un área protegida. Utilizo ese índice para mostrar un mapa junto a la posición actual en el mapa. "
   ]
  },
  {
   "cell_type": "code",
   "execution_count": 150,
   "id": "7af98276-9c4c-418c-8d8d-e2acdb4b5b02",
   "metadata": {
    "tags": []
   },
   "outputs": [
    {
     "data": {
      "text/html": [
       "\n",
       "            <style>\n",
       "                .geemap-dark {\n",
       "                    --jp-widgets-color: white;\n",
       "                    --jp-widgets-label-color: white;\n",
       "                    --jp-ui-font-color1: white;\n",
       "                    --jp-layout-color2: #454545;\n",
       "                    background-color: #383838;\n",
       "                }\n",
       "                    \n",
       "                .geemap-dark .jupyter-button {\n",
       "                    --jp-layout-color3: #383838;\n",
       "                }\n",
       "                \n",
       "                .geemap-colab {\n",
       "                    background-color: var(--colab-primary-surface-color, white);\n",
       "                }\n",
       "                    \n",
       "                .geemap-colab .jupyter-button {\n",
       "                    --jp-layout-color3: var(--colab-primary-surface-color, white);\n",
       "                }\n",
       "            </style>\n",
       "            "
      ],
      "text/plain": [
       "<IPython.core.display.HTML object>"
      ]
     },
     "metadata": {},
     "output_type": "display_data"
    }
   ],
   "source": [
    "def get_areas_protegidas():\n",
    "    \"\"\"\n",
    "    Produce una tabla simple con los polígonos de todas las áreas protegidas\n",
    "    según el Viceministerio de Tierras.\n",
    "    \"\"\"\n",
    "    \n",
    "    gdfs = []\n",
    "    for f in glob('resources/areas*'):\n",
    "        nombre = f.split('.')[0].split('_')[-1]\n",
    "        gdf = gpd.read_file(f)\n",
    "        area_col = [col for col in gdf.columns if 'nombre' in col][0]\n",
    "        gdf.insert(0, 'tipo', nombre)\n",
    "        gdf.rename(columns={area_col: 'nombre'}, inplace=True)\n",
    "        gdfs.append(gdf[['tipo', 'nombre', 'geometry']])\n",
    "    return gpd.GeoDataFrame(pd.concat(gdfs), geometry='geometry')\n",
    "\n",
    "areas_protegidas = get_areas_protegidas()"
   ]
  },
  {
   "cell_type": "code",
   "execution_count": 151,
   "id": "eefb6d65-b9cd-4e96-821f-fbec8abbfd47",
   "metadata": {
    "tags": []
   },
   "outputs": [
    {
     "data": {
      "text/html": [
       "\n",
       "            <style>\n",
       "                .geemap-dark {\n",
       "                    --jp-widgets-color: white;\n",
       "                    --jp-widgets-label-color: white;\n",
       "                    --jp-ui-font-color1: white;\n",
       "                    --jp-layout-color2: #454545;\n",
       "                    background-color: #383838;\n",
       "                }\n",
       "                    \n",
       "                .geemap-dark .jupyter-button {\n",
       "                    --jp-layout-color3: #383838;\n",
       "                }\n",
       "                \n",
       "                .geemap-colab {\n",
       "                    background-color: var(--colab-primary-surface-color, white);\n",
       "                }\n",
       "                    \n",
       "                .geemap-colab .jupyter-button {\n",
       "                    --jp-layout-color3: var(--colab-primary-surface-color, white);\n",
       "                }\n",
       "            </style>\n",
       "            "
      ],
      "text/plain": [
       "<IPython.core.display.HTML object>"
      ]
     },
     "metadata": {},
     "output_type": "display_data"
    },
    {
     "data": {
      "text/html": [
       "<div>\n",
       "<style scoped>\n",
       "    .dataframe tbody tr th:only-of-type {\n",
       "        vertical-align: middle;\n",
       "    }\n",
       "\n",
       "    .dataframe tbody tr th {\n",
       "        vertical-align: top;\n",
       "    }\n",
       "\n",
       "    .dataframe thead th {\n",
       "        text-align: right;\n",
       "    }\n",
       "</style>\n",
       "<table border=\"1\" class=\"dataframe\">\n",
       "  <thead>\n",
       "    <tr style=\"text-align: right;\">\n",
       "      <th></th>\n",
       "      <th>tipo</th>\n",
       "      <th>nombre</th>\n",
       "      <th>geometry</th>\n",
       "    </tr>\n",
       "  </thead>\n",
       "  <tbody>\n",
       "    <tr>\n",
       "      <th>0</th>\n",
       "      <td>municipales</td>\n",
       "      <td>Huaripampa</td>\n",
       "      <td>MULTIPOLYGON (((-68.12761 -16.42619, -68.12780...</td>\n",
       "    </tr>\n",
       "    <tr>\n",
       "      <th>1</th>\n",
       "      <td>municipales</td>\n",
       "      <td>Huallatani Pampa</td>\n",
       "      <td>MULTIPOLYGON (((-67.96064 -16.43700, -67.96042...</td>\n",
       "    </tr>\n",
       "    <tr>\n",
       "      <th>2</th>\n",
       "      <td>municipales</td>\n",
       "      <td>Laguna Concepcion</td>\n",
       "      <td>MULTIPOLYGON (((-61.23603 -17.39050, -61.23603...</td>\n",
       "    </tr>\n",
       "    <tr>\n",
       "      <th>3</th>\n",
       "      <td>municipales</td>\n",
       "      <td>Laguna Quirusillas</td>\n",
       "      <td>MULTIPOLYGON (((-63.98854 -18.29465, -63.98782...</td>\n",
       "    </tr>\n",
       "    <tr>\n",
       "      <th>4</th>\n",
       "      <td>municipales</td>\n",
       "      <td>Serrania Sararenda-Cuevo</td>\n",
       "      <td>MULTIPOLYGON (((-63.55209 -20.24037, -63.55127...</td>\n",
       "    </tr>\n",
       "    <tr>\n",
       "      <th>...</th>\n",
       "      <td>...</td>\n",
       "      <td>...</td>\n",
       "      <td>...</td>\n",
       "    </tr>\n",
       "    <tr>\n",
       "      <th>22</th>\n",
       "      <td>departamentales</td>\n",
       "      <td>Bruno Racua</td>\n",
       "      <td>MULTIPOLYGON (((-65.57370 -9.83905, -65.56971 ...</td>\n",
       "    </tr>\n",
       "    <tr>\n",
       "      <th>23</th>\n",
       "      <td>departamentales</td>\n",
       "      <td>Area de proteccion del Quebracho Colorado</td>\n",
       "      <td>MULTIPOLYGON (((-62.38027 -20.99960, -62.25982...</td>\n",
       "    </tr>\n",
       "    <tr>\n",
       "      <th>24</th>\n",
       "      <td>departamentales</td>\n",
       "      <td>Area de proteccion del Pino del Cerro</td>\n",
       "      <td>MULTIPOLYGON (((-64.74788 -21.89838, -64.78004...</td>\n",
       "    </tr>\n",
       "    <tr>\n",
       "      <th>25</th>\n",
       "      <td>departamentales</td>\n",
       "      <td>Altamachi</td>\n",
       "      <td>MULTIPOLYGON (((-66.86342 -15.93578, -66.67905...</td>\n",
       "    </tr>\n",
       "    <tr>\n",
       "      <th>26</th>\n",
       "      <td>departamentales</td>\n",
       "      <td>Santa Cruz La Vieja</td>\n",
       "      <td>MULTIPOLYGON (((-60.80809 -17.85094, -60.80276...</td>\n",
       "    </tr>\n",
       "  </tbody>\n",
       "</table>\n",
       "<p>100 rows × 3 columns</p>\n",
       "</div>"
      ],
      "text/plain": [
       "               tipo                                     nombre  \\\n",
       "0       municipales                                 Huaripampa   \n",
       "1       municipales                           Huallatani Pampa   \n",
       "2       municipales                          Laguna Concepcion   \n",
       "3       municipales                         Laguna Quirusillas   \n",
       "4       municipales                   Serrania Sararenda-Cuevo   \n",
       "..              ...                                        ...   \n",
       "22  departamentales                                Bruno Racua   \n",
       "23  departamentales  Area de proteccion del Quebracho Colorado   \n",
       "24  departamentales      Area de proteccion del Pino del Cerro   \n",
       "25  departamentales                                  Altamachi   \n",
       "26  departamentales                        Santa Cruz La Vieja   \n",
       "\n",
       "                                             geometry  \n",
       "0   MULTIPOLYGON (((-68.12761 -16.42619, -68.12780...  \n",
       "1   MULTIPOLYGON (((-67.96064 -16.43700, -67.96042...  \n",
       "2   MULTIPOLYGON (((-61.23603 -17.39050, -61.23603...  \n",
       "3   MULTIPOLYGON (((-63.98854 -18.29465, -63.98782...  \n",
       "4   MULTIPOLYGON (((-63.55209 -20.24037, -63.55127...  \n",
       "..                                                ...  \n",
       "22  MULTIPOLYGON (((-65.57370 -9.83905, -65.56971 ...  \n",
       "23  MULTIPOLYGON (((-62.38027 -20.99960, -62.25982...  \n",
       "24  MULTIPOLYGON (((-64.74788 -21.89838, -64.78004...  \n",
       "25  MULTIPOLYGON (((-66.86342 -15.93578, -66.67905...  \n",
       "26  MULTIPOLYGON (((-60.80809 -17.85094, -60.80276...  \n",
       "\n",
       "[100 rows x 3 columns]"
      ]
     },
     "execution_count": 151,
     "metadata": {},
     "output_type": "execute_result"
    }
   ],
   "source": [
    "areas_protegidas"
   ]
  },
  {
   "cell_type": "code",
   "execution_count": 179,
   "id": "70db27a7-5c51-49c1-81cd-655535920417",
   "metadata": {
    "tags": []
   },
   "outputs": [
    {
     "data": {
      "text/html": [
       "\n",
       "            <style>\n",
       "                .geemap-dark {\n",
       "                    --jp-widgets-color: white;\n",
       "                    --jp-widgets-label-color: white;\n",
       "                    --jp-ui-font-color1: white;\n",
       "                    --jp-layout-color2: #454545;\n",
       "                    background-color: #383838;\n",
       "                }\n",
       "                    \n",
       "                .geemap-dark .jupyter-button {\n",
       "                    --jp-layout-color3: #383838;\n",
       "                }\n",
       "                \n",
       "                .geemap-colab {\n",
       "                    background-color: var(--colab-primary-surface-color, white);\n",
       "                }\n",
       "                    \n",
       "                .geemap-colab .jupyter-button {\n",
       "                    --jp-layout-color3: var(--colab-primary-surface-color, white);\n",
       "                }\n",
       "            </style>\n",
       "            "
      ],
      "text/plain": [
       "<IPython.core.display.HTML object>"
      ]
     },
     "metadata": {},
     "output_type": "display_data"
    }
   ],
   "source": [
    "def create_index(directory='timelapse'):\n",
    "    \"\"\"\n",
    "    Construye un índice de todas las capturas.\n",
    "    \"\"\"\n",
    "    \n",
    "    entries = []\n",
    "    \n",
    "    for video in glob(f'{directory}/*.mp4'):\n",
    "        \n",
    "        v = video.replace('.mp4', '').split('_')\n",
    "        entries.append({\n",
    "            'filename': video,\n",
    "            'capture': v[2],\n",
    "            'y': float(v[3]),\n",
    "            'x': float(v[4])\n",
    "        })\n",
    "        \n",
    "    df = pd.DataFrame(entries)\n",
    "    gdf = gpd.GeoDataFrame(df, geometry=gpd.points_from_xy(df.x,df.y, crs='EPSG:4326'))\n",
    "    gdf = gdf.drop(columns=['x', 'y'])\n",
    "    gdf = gpd.tools.sjoin(gdf, areas_protegidas[['nombre', 'geometry']], how='left').drop(columns='index_right')\n",
    "    gdf.rename(columns={'nombre': 'area_protegida'}, inplace=True)\n",
    "    \n",
    "    return gdf"
   ]
  },
  {
   "cell_type": "code",
   "execution_count": 246,
   "id": "4ad263b9-f7bb-4179-a5a2-a4f21a2a03d6",
   "metadata": {
    "tags": []
   },
   "outputs": [
    {
     "data": {
      "text/html": [
       "\n",
       "            <style>\n",
       "                .geemap-dark {\n",
       "                    --jp-widgets-color: white;\n",
       "                    --jp-widgets-label-color: white;\n",
       "                    --jp-ui-font-color1: white;\n",
       "                    --jp-layout-color2: #454545;\n",
       "                    background-color: #383838;\n",
       "                }\n",
       "                    \n",
       "                .geemap-dark .jupyter-button {\n",
       "                    --jp-layout-color3: #383838;\n",
       "                }\n",
       "                \n",
       "                .geemap-colab {\n",
       "                    background-color: var(--colab-primary-surface-color, white);\n",
       "                }\n",
       "                    \n",
       "                .geemap-colab .jupyter-button {\n",
       "                    --jp-layout-color3: var(--colab-primary-surface-color, white);\n",
       "                }\n",
       "            </style>\n",
       "            "
      ],
      "text/plain": [
       "<IPython.core.display.HTML object>"
      ]
     },
     "metadata": {},
     "output_type": "display_data"
    }
   ],
   "source": [
    "def plot_current(index):\n",
    "    \"\"\"\n",
    "    Produce un mapa simple con la ubicación de cada captura\n",
    "    y la posición actual en el mapa.\n",
    "    \"\"\"\n",
    "    \n",
    "    state = get_view_state(view)\n",
    "    m = index.explore( \n",
    "        color='blue',\n",
    "        style_kwds={'stroke': True, 'color': '#9C9BB5', 'weight': .5}, \n",
    "        marker_kwds={'radius': 5}, \n",
    "        legend_kwds={'colorbar': False},\n",
    "    )\n",
    "    state_coords = gpd.GeoDataFrame(geometry=gpd.points_from_xy([state['center'][1]], [state['center'][0]]))\n",
    "    state_coords.explore(\n",
    "        m=m, \n",
    "        color='red', \n",
    "        marker_kwds={'radius': 5}, \n",
    "        legend_kwds={'colorbar': False}\n",
    "    )\n",
    "    return m"
   ]
  },
  {
   "cell_type": "markdown",
   "id": "e3e8c24e-f8e8-45fe-83b9-88df231b65d9",
   "metadata": {
    "tags": [],
    "user_expressions": []
   },
   "source": [
    "Y adicionalmente un simple enlace que me lleva a la ubicación del mapa en la vista satelital de Google Maps. Esta vista tiene una resolución mejor que Planet NICFI."
   ]
  },
  {
   "cell_type": "code",
   "execution_count": 332,
   "id": "7429aa2e-23d2-496b-b375-05fbe3bfab28",
   "metadata": {
    "tags": []
   },
   "outputs": [
    {
     "data": {
      "text/html": [
       "\n",
       "            <style>\n",
       "                .geemap-dark {\n",
       "                    --jp-widgets-color: white;\n",
       "                    --jp-widgets-label-color: white;\n",
       "                    --jp-ui-font-color1: white;\n",
       "                    --jp-layout-color2: #454545;\n",
       "                    background-color: #383838;\n",
       "                }\n",
       "                    \n",
       "                .geemap-dark .jupyter-button {\n",
       "                    --jp-layout-color3: #383838;\n",
       "                }\n",
       "                \n",
       "                .geemap-colab {\n",
       "                    background-color: var(--colab-primary-surface-color, white);\n",
       "                }\n",
       "                    \n",
       "                .geemap-colab .jupyter-button {\n",
       "                    --jp-layout-color3: var(--colab-primary-surface-color, white);\n",
       "                }\n",
       "            </style>\n",
       "            "
      ],
      "text/plain": [
       "<IPython.core.display.HTML object>"
      ]
     },
     "metadata": {},
     "output_type": "display_data"
    }
   ],
   "source": [
    "def googleMaps():\n",
    "    state = get_view_state(view)\n",
    "    return display(Markdown(\n",
    "        f'[map](https://www.google.com/maps/@{state[\"center\"][0]},{state[\"center\"][1]},2258m/data=!3m1!1e3?entry=ttu)'\n",
    "    ))"
   ]
  },
  {
   "cell_type": "markdown",
   "id": "38387d68-6c88-4fea-b81c-d412122e9832",
   "metadata": {
    "tags": [],
    "user_expressions": []
   },
   "source": [
    "El panel con 3 mapas sincronizados ..."
   ]
  },
  {
   "cell_type": "code",
   "execution_count": 374,
   "id": "00957ef5-9b67-41cd-a19f-d808705cb8d5",
   "metadata": {
    "tags": []
   },
   "outputs": [
    {
     "data": {
      "text/html": [
       "\n",
       "            <style>\n",
       "                .geemap-dark {\n",
       "                    --jp-widgets-color: white;\n",
       "                    --jp-widgets-label-color: white;\n",
       "                    --jp-ui-font-color1: white;\n",
       "                    --jp-layout-color2: #454545;\n",
       "                    background-color: #383838;\n",
       "                }\n",
       "                    \n",
       "                .geemap-dark .jupyter-button {\n",
       "                    --jp-layout-color3: #383838;\n",
       "                }\n",
       "                \n",
       "                .geemap-colab {\n",
       "                    background-color: var(--colab-primary-surface-color, white);\n",
       "                }\n",
       "                    \n",
       "                .geemap-colab .jupyter-button {\n",
       "                    --jp-layout-color3: var(--colab-primary-surface-color, white);\n",
       "                }\n",
       "            </style>\n",
       "            "
      ],
      "text/plain": [
       "<IPython.core.display.HTML object>"
      ]
     },
     "metadata": {},
     "output_type": "display_data"
    },
    {
     "data": {
      "application/vnd.jupyter.widget-view+json": {
       "model_id": "ed2d45e7aca143ca9b53d168f7a579d9",
       "version_major": 2,
       "version_minor": 0
      },
      "text/plain": [
       "GridspecLayout(children=(Output(layout=Layout(grid_area='widget001')), Output(layout=Layout(grid_area='widget0…"
      ]
     },
     "execution_count": 374,
     "metadata": {},
     "output_type": "execute_result"
    }
   ],
   "source": [
    "view = linked_map(bbox, center, start, end=dt.datetime(2023,6,1))\n",
    "view"
   ]
  },
  {
   "cell_type": "markdown",
   "id": "c81d231d-7d52-461a-9fba-4d4581314107",
   "metadata": {
    "tags": [],
    "user_expressions": []
   },
   "source": [
    "La ubicación actual en la vista satelital de Google ..."
   ]
  },
  {
   "cell_type": "code",
   "execution_count": 356,
   "id": "3becd134-a708-4c8a-9e27-09862817362e",
   "metadata": {
    "tags": []
   },
   "outputs": [
    {
     "data": {
      "text/html": [
       "\n",
       "            <style>\n",
       "                .geemap-dark {\n",
       "                    --jp-widgets-color: white;\n",
       "                    --jp-widgets-label-color: white;\n",
       "                    --jp-ui-font-color1: white;\n",
       "                    --jp-layout-color2: #454545;\n",
       "                    background-color: #383838;\n",
       "                }\n",
       "                    \n",
       "                .geemap-dark .jupyter-button {\n",
       "                    --jp-layout-color3: #383838;\n",
       "                }\n",
       "                \n",
       "                .geemap-colab {\n",
       "                    background-color: var(--colab-primary-surface-color, white);\n",
       "                }\n",
       "                    \n",
       "                .geemap-colab .jupyter-button {\n",
       "                    --jp-layout-color3: var(--colab-primary-surface-color, white);\n",
       "                }\n",
       "            </style>\n",
       "            "
      ],
      "text/plain": [
       "<IPython.core.display.HTML object>"
      ]
     },
     "metadata": {},
     "output_type": "display_data"
    },
    {
     "data": {
      "text/markdown": [
       "[map](https://www.google.com/maps/@-11.675016230544056,-67.73272991180421,2258m/data=!3m1!1e3?entry=ttu)"
      ],
      "text/plain": [
       "<IPython.core.display.Markdown object>"
      ]
     },
     "metadata": {},
     "output_type": "display_data"
    }
   ],
   "source": [
    "googleMaps()"
   ]
  },
  {
   "cell_type": "markdown",
   "id": "c447457f-32e2-4ac5-b7f9-94e31cdb45c6",
   "metadata": {
    "tags": [],
    "user_expressions": []
   },
   "source": [
    "Tomo una captura cuando encuentro algo interesante ..."
   ]
  },
  {
   "cell_type": "code",
   "execution_count": 367,
   "id": "077301d2-0dcf-4e5a-8cdc-01b919349026",
   "metadata": {
    "tags": []
   },
   "outputs": [
    {
     "data": {
      "text/html": [
       "\n",
       "            <style>\n",
       "                .geemap-dark {\n",
       "                    --jp-widgets-color: white;\n",
       "                    --jp-widgets-label-color: white;\n",
       "                    --jp-ui-font-color1: white;\n",
       "                    --jp-layout-color2: #454545;\n",
       "                    background-color: #383838;\n",
       "                }\n",
       "                    \n",
       "                .geemap-dark .jupyter-button {\n",
       "                    --jp-layout-color3: #383838;\n",
       "                }\n",
       "                \n",
       "                .geemap-colab {\n",
       "                    background-color: var(--colab-primary-surface-color, white);\n",
       "                }\n",
       "                    \n",
       "                .geemap-colab .jupyter-button {\n",
       "                    --jp-layout-color3: var(--colab-primary-surface-color, white);\n",
       "                }\n",
       "            </style>\n",
       "            "
      ],
      "text/plain": [
       "<IPython.core.display.HTML object>"
      ]
     },
     "metadata": {},
     "output_type": "display_data"
    },
    {
     "name": "stdout",
     "output_type": "stream",
     "text": [
      "Generating URL...\n",
      "Downloading GIF image from https://earthengine.googleapis.com/v1/projects/earthengine-legacy/videoThumbnails/1fed22165a36c2256194dfe4c6a3eac5-06e2c42ab3e0e0ea4a626359f503abc3:getPixels\n",
      "Please wait ...\n",
      "The GIF image has been saved to: /home/m/studio/code/mining/timelapse/nicfi_2016-06-01_2023-11-07_-14.669041072847948_-68.97856235504152.gif\n"
     ]
    },
    {
     "data": {
      "text/html": [
       "<video src=\"timelapse/nicfi_2016-06-01_2023-11-07_-14.669041072847948_-68.97856235504152.mp4\" controls  >\n",
       "      Your browser does not support the <code>video</code> element.\n",
       "    </video>"
      ],
      "text/plain": [
       "<IPython.core.display.Video object>"
      ]
     },
     "metadata": {},
     "output_type": "display_data"
    }
   ],
   "source": [
    "nicfiTimelapse(view, start)"
   ]
  },
  {
   "cell_type": "markdown",
   "id": "de6e26f5-ec15-4772-99ef-198884e0d70b",
   "metadata": {
    "tags": [],
    "user_expressions": []
   },
   "source": [
    "Y un mapa para revisar dónde he tomado capturas hasta ahora ..."
   ]
  },
  {
   "cell_type": "code",
   "execution_count": 383,
   "id": "01039c87-d070-4f86-b3fa-9b5ce2ccbe55",
   "metadata": {
    "tags": []
   },
   "outputs": [
    {
     "data": {
      "text/html": [
       "\n",
       "            <style>\n",
       "                .geemap-dark {\n",
       "                    --jp-widgets-color: white;\n",
       "                    --jp-widgets-label-color: white;\n",
       "                    --jp-ui-font-color1: white;\n",
       "                    --jp-layout-color2: #454545;\n",
       "                    background-color: #383838;\n",
       "                }\n",
       "                    \n",
       "                .geemap-dark .jupyter-button {\n",
       "                    --jp-layout-color3: #383838;\n",
       "                }\n",
       "                \n",
       "                .geemap-colab {\n",
       "                    background-color: var(--colab-primary-surface-color, white);\n",
       "                }\n",
       "                    \n",
       "                .geemap-colab .jupyter-button {\n",
       "                    --jp-layout-color3: var(--colab-primary-surface-color, white);\n",
       "                }\n",
       "            </style>\n",
       "            "
      ],
      "text/plain": [
       "<IPython.core.display.HTML object>"
      ]
     },
     "metadata": {},
     "output_type": "display_data"
    },
    {
     "data": {
      "text/html": [
       "<div style=\"width:100%;\"><div style=\"position:relative;width:100%;height:0;padding-bottom:60%;\"><span style=\"color:#565656\">Make this Notebook Trusted to load map: File -> Trust Notebook</span><iframe srcdoc=\"&lt;!DOCTYPE html&gt;\n",
       "&lt;html&gt;\n",
       "&lt;head&gt;\n",
       "    \n",
       "    &lt;meta http-equiv=&quot;content-type&quot; content=&quot;text/html; charset=UTF-8&quot; /&gt;\n",
       "    \n",
       "        &lt;script&gt;\n",
       "            L_NO_TOUCH = false;\n",
       "            L_DISABLE_3D = false;\n",
       "        &lt;/script&gt;\n",
       "    \n",
       "    &lt;style&gt;html, body {width: 100%;height: 100%;margin: 0;padding: 0;}&lt;/style&gt;\n",
       "    &lt;style&gt;#map {position:absolute;top:0;bottom:0;right:0;left:0;}&lt;/style&gt;\n",
       "    &lt;script src=&quot;https://cdn.jsdelivr.net/npm/leaflet@1.9.3/dist/leaflet.js&quot;&gt;&lt;/script&gt;\n",
       "    &lt;script src=&quot;https://code.jquery.com/jquery-3.7.1.min.js&quot;&gt;&lt;/script&gt;\n",
       "    &lt;script src=&quot;https://cdn.jsdelivr.net/npm/bootstrap@5.2.2/dist/js/bootstrap.bundle.min.js&quot;&gt;&lt;/script&gt;\n",
       "    &lt;script src=&quot;https://cdnjs.cloudflare.com/ajax/libs/Leaflet.awesome-markers/2.0.2/leaflet.awesome-markers.js&quot;&gt;&lt;/script&gt;\n",
       "    &lt;link rel=&quot;stylesheet&quot; href=&quot;https://cdn.jsdelivr.net/npm/leaflet@1.9.3/dist/leaflet.css&quot;/&gt;\n",
       "    &lt;link rel=&quot;stylesheet&quot; href=&quot;https://cdn.jsdelivr.net/npm/bootstrap@5.2.2/dist/css/bootstrap.min.css&quot;/&gt;\n",
       "    &lt;link rel=&quot;stylesheet&quot; href=&quot;https://netdna.bootstrapcdn.com/bootstrap/3.0.0/css/bootstrap.min.css&quot;/&gt;\n",
       "    &lt;link rel=&quot;stylesheet&quot; href=&quot;https://cdn.jsdelivr.net/npm/@fortawesome/fontawesome-free@6.2.0/css/all.min.css&quot;/&gt;\n",
       "    &lt;link rel=&quot;stylesheet&quot; href=&quot;https://cdnjs.cloudflare.com/ajax/libs/Leaflet.awesome-markers/2.0.2/leaflet.awesome-markers.css&quot;/&gt;\n",
       "    &lt;link rel=&quot;stylesheet&quot; href=&quot;https://cdn.jsdelivr.net/gh/python-visualization/folium/folium/templates/leaflet.awesome.rotate.min.css&quot;/&gt;\n",
       "    \n",
       "            &lt;meta name=&quot;viewport&quot; content=&quot;width=device-width,\n",
       "                initial-scale=1.0, maximum-scale=1.0, user-scalable=no&quot; /&gt;\n",
       "            &lt;style&gt;\n",
       "                #map_a2cde9e9904cd4b039293539f6b17f96 {\n",
       "                    position: relative;\n",
       "                    width: 100.0%;\n",
       "                    height: 100.0%;\n",
       "                    left: 0.0%;\n",
       "                    top: 0.0%;\n",
       "                }\n",
       "                .leaflet-container { font-size: 1rem; }\n",
       "            &lt;/style&gt;\n",
       "        \n",
       "    \n",
       "                    &lt;style&gt;\n",
       "                        .foliumtooltip {\n",
       "                            \n",
       "                        }\n",
       "                       .foliumtooltip table{\n",
       "                            margin: auto;\n",
       "                        }\n",
       "                        .foliumtooltip tr{\n",
       "                            text-align: left;\n",
       "                        }\n",
       "                        .foliumtooltip th{\n",
       "                            padding: 2px; padding-right: 8px;\n",
       "                        }\n",
       "                    &lt;/style&gt;\n",
       "            \n",
       "    \n",
       "                    &lt;style&gt;\n",
       "                        .foliumtooltip {\n",
       "                            \n",
       "                        }\n",
       "                       .foliumtooltip table{\n",
       "                            margin: auto;\n",
       "                        }\n",
       "                        .foliumtooltip tr{\n",
       "                            text-align: left;\n",
       "                        }\n",
       "                        .foliumtooltip th{\n",
       "                            padding: 2px; padding-right: 8px;\n",
       "                        }\n",
       "                    &lt;/style&gt;\n",
       "            \n",
       "&lt;/head&gt;\n",
       "&lt;body&gt;\n",
       "    \n",
       "    \n",
       "            &lt;div class=&quot;folium-map&quot; id=&quot;map_a2cde9e9904cd4b039293539f6b17f96&quot; &gt;&lt;/div&gt;\n",
       "        \n",
       "&lt;/body&gt;\n",
       "&lt;script&gt;\n",
       "    \n",
       "    \n",
       "            var map_a2cde9e9904cd4b039293539f6b17f96 = L.map(\n",
       "                &quot;map_a2cde9e9904cd4b039293539f6b17f96&quot;,\n",
       "                {\n",
       "                    center: [-14.773708934564693, -68.42645645141603],\n",
       "                    crs: L.CRS.EPSG3857,\n",
       "                    zoom: 10,\n",
       "                    zoomControl: true,\n",
       "                    preferCanvas: false,\n",
       "                }\n",
       "            );\n",
       "            L.control.scale().addTo(map_a2cde9e9904cd4b039293539f6b17f96);\n",
       "\n",
       "            \n",
       "\n",
       "        \n",
       "    \n",
       "            var tile_layer_a656cf44f24436b43fcb94684897d5ff = L.tileLayer(\n",
       "                &quot;https://{s}.tile.openstreetmap.org/{z}/{x}/{y}.png&quot;,\n",
       "                {&quot;attribution&quot;: &quot;Data by \\u0026copy; \\u003ca target=\\&quot;_blank\\&quot; href=\\&quot;http://openstreetmap.org\\&quot;\\u003eOpenStreetMap\\u003c/a\\u003e, under \\u003ca target=\\&quot;_blank\\&quot; href=\\&quot;http://www.openstreetmap.org/copyright\\&quot;\\u003eODbL\\u003c/a\\u003e.&quot;, &quot;detectRetina&quot;: false, &quot;maxNativeZoom&quot;: 18, &quot;maxZoom&quot;: 18, &quot;minZoom&quot;: 0, &quot;noWrap&quot;: false, &quot;opacity&quot;: 1, &quot;subdomains&quot;: &quot;abc&quot;, &quot;tms&quot;: false}\n",
       "            );\n",
       "        \n",
       "    \n",
       "                tile_layer_a656cf44f24436b43fcb94684897d5ff.addTo(map_a2cde9e9904cd4b039293539f6b17f96);\n",
       "    \n",
       "            map_a2cde9e9904cd4b039293539f6b17f96.fitBounds(\n",
       "                [[-15.631178642218794, -69.22824382781984], [-13.916239226910593, -67.62466907501222]],\n",
       "                {}\n",
       "            );\n",
       "        \n",
       "    \n",
       "        function geo_json_0964d3fe48fa81f13b64c8aa697f2aaa_styler(feature) {\n",
       "            switch(feature.id) {\n",
       "                default:\n",
       "                    return {&quot;color&quot;: &quot;#9C9BB5&quot;, &quot;fillColor&quot;: &quot;blue&quot;, &quot;fillOpacity&quot;: 0.5, &quot;stroke&quot;: true, &quot;weight&quot;: 0.5};\n",
       "            }\n",
       "        }\n",
       "        function geo_json_0964d3fe48fa81f13b64c8aa697f2aaa_highlighter(feature) {\n",
       "            switch(feature.id) {\n",
       "                default:\n",
       "                    return {&quot;fillOpacity&quot;: 0.75};\n",
       "            }\n",
       "        }\n",
       "        function geo_json_0964d3fe48fa81f13b64c8aa697f2aaa_pointToLayer(feature, latlng) {\n",
       "            var opts = {&quot;bubblingMouseEvents&quot;: true, &quot;color&quot;: &quot;#3388ff&quot;, &quot;dashArray&quot;: null, &quot;dashOffset&quot;: null, &quot;fill&quot;: true, &quot;fillColor&quot;: &quot;#3388ff&quot;, &quot;fillOpacity&quot;: 0.2, &quot;fillRule&quot;: &quot;evenodd&quot;, &quot;lineCap&quot;: &quot;round&quot;, &quot;lineJoin&quot;: &quot;round&quot;, &quot;opacity&quot;: 1.0, &quot;radius&quot;: 5, &quot;stroke&quot;: true, &quot;weight&quot;: 3};\n",
       "            \n",
       "            let style = geo_json_0964d3fe48fa81f13b64c8aa697f2aaa_styler(feature)\n",
       "            Object.assign(opts, style)\n",
       "            \n",
       "            return new L.CircleMarker(latlng, opts)\n",
       "        }\n",
       "\n",
       "        function geo_json_0964d3fe48fa81f13b64c8aa697f2aaa_onEachFeature(feature, layer) {\n",
       "            layer.on({\n",
       "                mouseout: function(e) {\n",
       "                    if(typeof e.target.setStyle === &quot;function&quot;){\n",
       "                        geo_json_0964d3fe48fa81f13b64c8aa697f2aaa.resetStyle(e.target);\n",
       "                    }\n",
       "                },\n",
       "                mouseover: function(e) {\n",
       "                    if(typeof e.target.setStyle === &quot;function&quot;){\n",
       "                        const highlightStyle = geo_json_0964d3fe48fa81f13b64c8aa697f2aaa_highlighter(e.target.feature)\n",
       "                        e.target.setStyle(highlightStyle);\n",
       "                    }\n",
       "                },\n",
       "            });\n",
       "        };\n",
       "        var geo_json_0964d3fe48fa81f13b64c8aa697f2aaa = L.geoJson(null, {\n",
       "                onEachFeature: geo_json_0964d3fe48fa81f13b64c8aa697f2aaa_onEachFeature,\n",
       "            \n",
       "                style: geo_json_0964d3fe48fa81f13b64c8aa697f2aaa_styler,\n",
       "                pointToLayer: geo_json_0964d3fe48fa81f13b64c8aa697f2aaa_pointToLayer,\n",
       "        });\n",
       "\n",
       "        function geo_json_0964d3fe48fa81f13b64c8aa697f2aaa_add (data) {\n",
       "            geo_json_0964d3fe48fa81f13b64c8aa697f2aaa\n",
       "                .addData(data);\n",
       "        }\n",
       "            geo_json_0964d3fe48fa81f13b64c8aa697f2aaa_add({&quot;bbox&quot;: [-69.22824382781984, -15.631178642218794, -67.62466907501222, -13.916239226910593], &quot;features&quot;: [{&quot;bbox&quot;: [-68.83713483810426, -13.916239226910593, -68.83713483810426, -13.916239226910593], &quot;geometry&quot;: {&quot;coordinates&quot;: [-68.83713483810426, -13.916239226910593], &quot;type&quot;: &quot;Point&quot;}, &quot;id&quot;: &quot;0&quot;, &quot;properties&quot;: {&quot;__folium_color&quot;: &quot;blue&quot;, &quot;area_protegida&quot;: &quot;Madidi&quot;, &quot;capture&quot;: &quot;2023-11-07&quot;, &quot;filename&quot;: &quot;timelapse/nicfi_2016-06-01_2023-11-07_-13.916239226910593_-68.83713483810426.mp4&quot;}, &quot;type&quot;: &quot;Feature&quot;}, {&quot;bbox&quot;: [-68.03195714950563, -15.575088648549222, -68.03195714950563, -15.575088648549222], &quot;geometry&quot;: {&quot;coordinates&quot;: [-68.03195714950563, -15.575088648549222], &quot;type&quot;: &quot;Point&quot;}, &quot;id&quot;: &quot;1&quot;, &quot;properties&quot;: {&quot;__folium_color&quot;: &quot;blue&quot;, &quot;area_protegida&quot;: null, &quot;capture&quot;: &quot;2023-11-07&quot;, &quot;filename&quot;: &quot;timelapse/nicfi_2016-06-01_2023-11-07_-15.575088648549222_-68.03195714950563.mp4&quot;}, &quot;type&quot;: &quot;Feature&quot;}, {&quot;bbox&quot;: [-68.56623172760011, -14.99072176045514, -68.56623172760011, -14.99072176045514], &quot;geometry&quot;: {&quot;coordinates&quot;: [-68.56623172760011, -14.99072176045514], &quot;type&quot;: &quot;Point&quot;}, &quot;id&quot;: &quot;2&quot;, &quot;properties&quot;: {&quot;__folium_color&quot;: &quot;blue&quot;, &quot;area_protegida&quot;: &quot;Apolobamba&quot;, &quot;capture&quot;: &quot;2023-11-07&quot;, &quot;filename&quot;: &quot;timelapse/nicfi_2016-06-01_2023-11-07_-14.99072176045514_-68.56623172760011.mp4&quot;}, &quot;type&quot;: &quot;Feature&quot;}, {&quot;bbox&quot;: [-68.37386369705202, -15.228208316016397, -68.37386369705202, -15.228208316016397], &quot;geometry&quot;: {&quot;coordinates&quot;: [-68.37386369705202, -15.228208316016397], &quot;type&quot;: &quot;Point&quot;}, &quot;id&quot;: &quot;3&quot;, &quot;properties&quot;: {&quot;__folium_color&quot;: &quot;blue&quot;, &quot;area_protegida&quot;: &quot;Apolobamba&quot;, &quot;capture&quot;: &quot;2023-11-07&quot;, &quot;filename&quot;: &quot;timelapse/nicfi_2016-06-01_2023-11-07_-15.228208316016397_-68.37386369705202.mp4&quot;}, &quot;type&quot;: &quot;Feature&quot;}, {&quot;bbox&quot;: [-68.80595684051515, -15.19855776422101, -68.80595684051515, -15.19855776422101], &quot;geometry&quot;: {&quot;coordinates&quot;: [-68.80595684051515, -15.19855776422101], &quot;type&quot;: &quot;Point&quot;}, &quot;id&quot;: &quot;4&quot;, &quot;properties&quot;: {&quot;__folium_color&quot;: &quot;blue&quot;, &quot;area_protegida&quot;: &quot;Apolobamba&quot;, &quot;capture&quot;: &quot;2023-11-07&quot;, &quot;filename&quot;: &quot;timelapse/nicfi_2016-06-01_2023-11-07_-15.19855776422101_-68.80595684051515.mp4&quot;}, &quot;type&quot;: &quot;Feature&quot;}, {&quot;bbox&quot;: [-68.62418889999391, -14.511097038416292, -68.62418889999391, -14.511097038416292], &quot;geometry&quot;: {&quot;coordinates&quot;: [-68.62418889999391, -14.511097038416292], &quot;type&quot;: &quot;Point&quot;}, &quot;id&quot;: &quot;5&quot;, &quot;properties&quot;: {&quot;__folium_color&quot;: &quot;blue&quot;, &quot;area_protegida&quot;: &quot;Madidi&quot;, &quot;capture&quot;: &quot;2023-11-07&quot;, &quot;filename&quot;: &quot;timelapse/nicfi_2016-06-01_2023-11-07_-14.511097038416292_-68.62418889999391.mp4&quot;}, &quot;type&quot;: &quot;Feature&quot;}, {&quot;bbox&quot;: [-68.27155351638795, -15.22112734848756, -68.27155351638795, -15.22112734848756], &quot;geometry&quot;: {&quot;coordinates&quot;: [-68.27155351638795, -15.22112734848756], &quot;type&quot;: &quot;Point&quot;}, &quot;id&quot;: &quot;6&quot;, &quot;properties&quot;: {&quot;__folium_color&quot;: &quot;blue&quot;, &quot;area_protegida&quot;: &quot;Apolobamba&quot;, &quot;capture&quot;: &quot;2023-11-07&quot;, &quot;filename&quot;: &quot;timelapse/nicfi_2016-06-01_2023-11-07_-15.22112734848756_-68.27155351638795.mp4&quot;}, &quot;type&quot;: &quot;Feature&quot;}, {&quot;bbox&quot;: [-68.31137895584108, -15.24381873023654, -68.31137895584108, -15.24381873023654], &quot;geometry&quot;: {&quot;coordinates&quot;: [-68.31137895584108, -15.24381873023654], &quot;type&quot;: &quot;Point&quot;}, &quot;id&quot;: &quot;7&quot;, &quot;properties&quot;: {&quot;__folium_color&quot;: &quot;blue&quot;, &quot;area_protegida&quot;: &quot;Apolobamba&quot;, &quot;capture&quot;: &quot;2023-11-07&quot;, &quot;filename&quot;: &quot;timelapse/nicfi_2016-06-01_2023-11-07_-15.24381873023654_-68.31137895584108.mp4&quot;}, &quot;type&quot;: &quot;Feature&quot;}, {&quot;bbox&quot;: [-68.76053094863893, -14.697145942316839, -68.76053094863893, -14.697145942316839], &quot;geometry&quot;: {&quot;coordinates&quot;: [-68.76053094863893, -14.697145942316839], &quot;type&quot;: &quot;Point&quot;}, &quot;id&quot;: &quot;8&quot;, &quot;properties&quot;: {&quot;__folium_color&quot;: &quot;blue&quot;, &quot;area_protegida&quot;: &quot;Madidi&quot;, &quot;capture&quot;: &quot;2023-11-07&quot;, &quot;filename&quot;: &quot;timelapse/nicfi_2016-06-01_2023-11-07_-14.697145942316839_-68.76053094863893.mp4&quot;}, &quot;type&quot;: &quot;Feature&quot;}, {&quot;bbox&quot;: [-68.24267148971559, -15.602742890488035, -68.24267148971559, -15.602742890488035], &quot;geometry&quot;: {&quot;coordinates&quot;: [-68.24267148971559, -15.602742890488035], &quot;type&quot;: &quot;Point&quot;}, &quot;id&quot;: &quot;9&quot;, &quot;properties&quot;: {&quot;__folium_color&quot;: &quot;blue&quot;, &quot;area_protegida&quot;: null, &quot;capture&quot;: &quot;2023-11-07&quot;, &quot;filename&quot;: &quot;timelapse/nicfi_2016-06-01_2023-11-07_-15.602742890488035_-68.24267148971559.mp4&quot;}, &quot;type&quot;: &quot;Feature&quot;}, {&quot;bbox&quot;: [-68.29037189483644, -15.30827703790119, -68.29037189483644, -15.30827703790119], &quot;geometry&quot;: {&quot;coordinates&quot;: [-68.29037189483644, -15.30827703790119], &quot;type&quot;: &quot;Point&quot;}, &quot;id&quot;: &quot;10&quot;, &quot;properties&quot;: {&quot;__folium_color&quot;: &quot;blue&quot;, &quot;area_protegida&quot;: null, &quot;capture&quot;: &quot;2023-11-07&quot;, &quot;filename&quot;: &quot;timelapse/nicfi_2016-06-01_2023-11-07_-15.30827703790119_-68.29037189483644.mp4&quot;}, &quot;type&quot;: &quot;Feature&quot;}, {&quot;bbox&quot;: [-68.6849355697632, -15.381943017483467, -68.6849355697632, -15.381943017483467], &quot;geometry&quot;: {&quot;coordinates&quot;: [-68.6849355697632, -15.381943017483467], &quot;type&quot;: &quot;Point&quot;}, &quot;id&quot;: &quot;11&quot;, &quot;properties&quot;: {&quot;__folium_color&quot;: &quot;blue&quot;, &quot;area_protegida&quot;: null, &quot;capture&quot;: &quot;2023-11-07&quot;, &quot;filename&quot;: &quot;timelapse/nicfi_2016-06-01_2023-11-07_-15.381943017483467_-68.6849355697632.mp4&quot;}, &quot;type&quot;: &quot;Feature&quot;}, {&quot;bbox&quot;: [-68.65985155105592, -14.5055713105813, -68.65985155105592, -14.5055713105813], &quot;geometry&quot;: {&quot;coordinates&quot;: [-68.65985155105592, -14.5055713105813], &quot;type&quot;: &quot;Point&quot;}, &quot;id&quot;: &quot;12&quot;, &quot;properties&quot;: {&quot;__folium_color&quot;: &quot;blue&quot;, &quot;area_protegida&quot;: &quot;Madidi&quot;, &quot;capture&quot;: &quot;2023-11-07&quot;, &quot;filename&quot;: &quot;timelapse/nicfi_2016-06-01_2023-11-07_-14.5055713105813_-68.65985155105592.mp4&quot;}, &quot;type&quot;: &quot;Feature&quot;}, {&quot;bbox&quot;: [-68.51885318756105, -14.992877401144543, -68.51885318756105, -14.992877401144543], &quot;geometry&quot;: {&quot;coordinates&quot;: [-68.51885318756105, -14.992877401144543], &quot;type&quot;: &quot;Point&quot;}, &quot;id&quot;: &quot;13&quot;, &quot;properties&quot;: {&quot;__folium_color&quot;: &quot;blue&quot;, &quot;area_protegida&quot;: &quot;Apolobamba&quot;, &quot;capture&quot;: &quot;2023-11-07&quot;, &quot;filename&quot;: &quot;timelapse/nicfi_2016-06-01_2023-11-07_-14.992877401144543_-68.51885318756105.mp4&quot;}, &quot;type&quot;: &quot;Feature&quot;}, {&quot;bbox&quot;: [-68.3457112312317, -15.235247638247357, -68.3457112312317, -15.235247638247357], &quot;geometry&quot;: {&quot;coordinates&quot;: [-68.3457112312317, -15.235247638247357], &quot;type&quot;: &quot;Point&quot;}, &quot;id&quot;: &quot;14&quot;, &quot;properties&quot;: {&quot;__folium_color&quot;: &quot;blue&quot;, &quot;area_protegida&quot;: &quot;Apolobamba&quot;, &quot;capture&quot;: &quot;2023-11-07&quot;, &quot;filename&quot;: &quot;timelapse/nicfi_2016-06-01_2023-11-07_-15.235247638247357_-68.3457112312317.mp4&quot;}, &quot;type&quot;: &quot;Feature&quot;}, {&quot;bbox&quot;: [-68.28902006149293, -15.279838338053523, -68.28902006149293, -15.279838338053523], &quot;geometry&quot;: {&quot;coordinates&quot;: [-68.28902006149293, -15.279838338053523], &quot;type&quot;: &quot;Point&quot;}, &quot;id&quot;: &quot;15&quot;, &quot;properties&quot;: {&quot;__folium_color&quot;: &quot;blue&quot;, &quot;area_protegida&quot;: &quot;Apolobamba&quot;, &quot;capture&quot;: &quot;2023-11-07&quot;, &quot;filename&quot;: &quot;timelapse/nicfi_2016-06-01_2023-11-07_-15.279838338053523_-68.28902006149293.mp4&quot;}, &quot;type&quot;: &quot;Feature&quot;}, {&quot;bbox&quot;: [-67.68174648284914, -15.307118039728008, -67.68174648284914, -15.307118039728008], &quot;geometry&quot;: {&quot;coordinates&quot;: [-67.68174648284914, -15.307118039728008], &quot;type&quot;: &quot;Point&quot;}, &quot;id&quot;: &quot;16&quot;, &quot;properties&quot;: {&quot;__folium_color&quot;: &quot;blue&quot;, &quot;area_protegida&quot;: null, &quot;capture&quot;: &quot;2023-11-07&quot;, &quot;filename&quot;: &quot;timelapse/nicfi_2016-06-01_2023-11-07_-15.307118039728008_-67.68174648284914.mp4&quot;}, &quot;type&quot;: &quot;Feature&quot;}, {&quot;bbox&quot;: [-68.24902296066286, -14.435552986442572, -68.24902296066286, -14.435552986442572], &quot;geometry&quot;: {&quot;coordinates&quot;: [-68.24902296066286, -14.435552986442572], &quot;type&quot;: &quot;Point&quot;}, &quot;id&quot;: &quot;17&quot;, &quot;properties&quot;: {&quot;__folium_color&quot;: &quot;blue&quot;, &quot;area_protegida&quot;: &quot;Madidi&quot;, &quot;capture&quot;: &quot;2023-11-07&quot;, &quot;filename&quot;: &quot;timelapse/nicfi_2016-06-01_2023-11-07_-14.435552986442572_-68.24902296066286.mp4&quot;}, &quot;type&quot;: &quot;Feature&quot;}, {&quot;bbox&quot;: [-68.75662565231325, -13.983586682531108, -68.75662565231325, -13.983586682531108], &quot;geometry&quot;: {&quot;coordinates&quot;: [-68.75662565231325, -13.983586682531108], &quot;type&quot;: &quot;Point&quot;}, &quot;id&quot;: &quot;18&quot;, &quot;properties&quot;: {&quot;__folium_color&quot;: &quot;blue&quot;, &quot;area_protegida&quot;: &quot;Madidi&quot;, &quot;capture&quot;: &quot;2023-11-07&quot;, &quot;filename&quot;: &quot;timelapse/nicfi_2016-06-01_2023-11-07_-13.983586682531108_-68.75662565231325.mp4&quot;}, &quot;type&quot;: &quot;Feature&quot;}, {&quot;bbox&quot;: [-68.60436201095582, -14.471416762153817, -68.60436201095582, -14.471416762153817], &quot;geometry&quot;: {&quot;coordinates&quot;: [-68.60436201095582, -14.471416762153817], &quot;type&quot;: &quot;Point&quot;}, &quot;id&quot;: &quot;19&quot;, &quot;properties&quot;: {&quot;__folium_color&quot;: &quot;blue&quot;, &quot;area_protegida&quot;: &quot;Madidi&quot;, &quot;capture&quot;: &quot;2023-11-07&quot;, &quot;filename&quot;: &quot;timelapse/nicfi_2016-06-01_2023-11-07_-14.471416762153817_-68.60436201095582.mp4&quot;}, &quot;type&quot;: &quot;Feature&quot;}, {&quot;bbox&quot;: [-68.25649023056032, -15.150718830499251, -68.25649023056032, -15.150718830499251], &quot;geometry&quot;: {&quot;coordinates&quot;: [-68.25649023056032, -15.150718830499251], &quot;type&quot;: &quot;Point&quot;}, &quot;id&quot;: &quot;20&quot;, &quot;properties&quot;: {&quot;__folium_color&quot;: &quot;blue&quot;, &quot;area_protegida&quot;: &quot;Apolobamba&quot;, &quot;capture&quot;: &quot;2023-11-07&quot;, &quot;filename&quot;: &quot;timelapse/nicfi_2016-06-01_2023-11-07_-15.150718830499251_-68.25649023056032.mp4&quot;}, &quot;type&quot;: &quot;Feature&quot;}, {&quot;bbox&quot;: [-67.94404506683351, -15.44631733883436, -67.94404506683351, -15.44631733883436], &quot;geometry&quot;: {&quot;coordinates&quot;: [-67.94404506683351, -15.44631733883436], &quot;type&quot;: &quot;Point&quot;}, &quot;id&quot;: &quot;21&quot;, &quot;properties&quot;: {&quot;__folium_color&quot;: &quot;blue&quot;, &quot;area_protegida&quot;: null, &quot;capture&quot;: &quot;2023-11-07&quot;, &quot;filename&quot;: &quot;timelapse/nicfi_2016-06-01_2023-11-07_-15.44631733883436_-67.94404506683351.mp4&quot;}, &quot;type&quot;: &quot;Feature&quot;}, {&quot;bbox&quot;: [-68.62556219100954, -14.488453143449101, -68.62556219100954, -14.488453143449101], &quot;geometry&quot;: {&quot;coordinates&quot;: [-68.62556219100954, -14.488453143449101], &quot;type&quot;: &quot;Point&quot;}, &quot;id&quot;: &quot;22&quot;, &quot;properties&quot;: {&quot;__folium_color&quot;: &quot;blue&quot;, &quot;area_protegida&quot;: &quot;Madidi&quot;, &quot;capture&quot;: &quot;2023-11-07&quot;, &quot;filename&quot;: &quot;timelapse/nicfi_2016-06-01_2023-11-07_-14.488453143449101_-68.62556219100954.mp4&quot;}, &quot;type&quot;: &quot;Feature&quot;}, {&quot;bbox&quot;: [-69.200177192688, -14.959711296592296, -69.200177192688, -14.959711296592296], &quot;geometry&quot;: {&quot;coordinates&quot;: [-69.200177192688, -14.959711296592296], &quot;type&quot;: &quot;Point&quot;}, &quot;id&quot;: &quot;23&quot;, &quot;properties&quot;: {&quot;__folium_color&quot;: &quot;blue&quot;, &quot;area_protegida&quot;: &quot;Apolobamba&quot;, &quot;capture&quot;: &quot;2023-11-07&quot;, &quot;filename&quot;: &quot;timelapse/nicfi_2016-06-01_2023-11-07_-14.959711296592296_-69.200177192688.mp4&quot;}, &quot;type&quot;: &quot;Feature&quot;}, {&quot;bbox&quot;: [-68.73491048812868, -14.026642077630479, -68.73491048812868, -14.026642077630479], &quot;geometry&quot;: {&quot;coordinates&quot;: [-68.73491048812868, -14.026642077630479], &quot;type&quot;: &quot;Point&quot;}, &quot;id&quot;: &quot;24&quot;, &quot;properties&quot;: {&quot;__folium_color&quot;: &quot;blue&quot;, &quot;area_protegida&quot;: &quot;Madidi&quot;, &quot;capture&quot;: &quot;2023-11-07&quot;, &quot;filename&quot;: &quot;timelapse/nicfi_2016-06-01_2023-11-07_-14.026642077630479_-68.73491048812868.mp4&quot;}, &quot;type&quot;: &quot;Feature&quot;}, {&quot;bbox&quot;: [-68.07461500167848, -15.591210408203734, -68.07461500167848, -15.591210408203734], &quot;geometry&quot;: {&quot;coordinates&quot;: [-68.07461500167848, -15.591210408203734], &quot;type&quot;: &quot;Point&quot;}, &quot;id&quot;: &quot;25&quot;, &quot;properties&quot;: {&quot;__folium_color&quot;: &quot;blue&quot;, &quot;area_protegida&quot;: null, &quot;capture&quot;: &quot;2023-11-07&quot;, &quot;filename&quot;: &quot;timelapse/nicfi_2016-06-01_2023-11-07_-15.591210408203734_-68.07461500167848.mp4&quot;}, &quot;type&quot;: &quot;Feature&quot;}, {&quot;bbox&quot;: [-68.45319271087648, -15.298839294760848, -68.45319271087648, -15.298839294760848], &quot;geometry&quot;: {&quot;coordinates&quot;: [-68.45319271087648, -15.298839294760848], &quot;type&quot;: &quot;Point&quot;}, &quot;id&quot;: &quot;26&quot;, &quot;properties&quot;: {&quot;__folium_color&quot;: &quot;blue&quot;, &quot;area_protegida&quot;: null, &quot;capture&quot;: &quot;2023-11-07&quot;, &quot;filename&quot;: &quot;timelapse/nicfi_2016-06-01_2023-11-07_-15.298839294760848_-68.45319271087648.mp4&quot;}, &quot;type&quot;: &quot;Feature&quot;}, {&quot;bbox&quot;: [-68.5639786720276, -14.616516397900376, -68.5639786720276, -14.616516397900376], &quot;geometry&quot;: {&quot;coordinates&quot;: [-68.5639786720276, -14.616516397900376], &quot;type&quot;: &quot;Point&quot;}, &quot;id&quot;: &quot;27&quot;, &quot;properties&quot;: {&quot;__folium_color&quot;: &quot;blue&quot;, &quot;area_protegida&quot;: &quot;Madidi&quot;, &quot;capture&quot;: &quot;2023-11-07&quot;, &quot;filename&quot;: &quot;timelapse/nicfi_2016-06-01_2023-11-07_-14.616516397900376_-68.5639786720276.mp4&quot;}, &quot;type&quot;: &quot;Feature&quot;}, {&quot;bbox&quot;: [-68.70959043502809, -14.076100000651952, -68.70959043502809, -14.076100000651952], &quot;geometry&quot;: {&quot;coordinates&quot;: [-68.70959043502809, -14.076100000651952], &quot;type&quot;: &quot;Point&quot;}, &quot;id&quot;: &quot;28&quot;, &quot;properties&quot;: {&quot;__folium_color&quot;: &quot;blue&quot;, &quot;area_protegida&quot;: &quot;Madidi&quot;, &quot;capture&quot;: &quot;2023-11-07&quot;, &quot;filename&quot;: &quot;timelapse/nicfi_2016-06-01_2023-11-07_-14.076100000651952_-68.70959043502809.mp4&quot;}, &quot;type&quot;: &quot;Feature&quot;}, {&quot;bbox&quot;: [-68.51003408432008, -15.631178642218794, -68.51003408432008, -15.631178642218794], &quot;geometry&quot;: {&quot;coordinates&quot;: [-68.51003408432008, -15.631178642218794], &quot;type&quot;: &quot;Point&quot;}, &quot;id&quot;: &quot;29&quot;, &quot;properties&quot;: {&quot;__folium_color&quot;: &quot;blue&quot;, &quot;area_protegida&quot;: null, &quot;capture&quot;: &quot;2023-11-07&quot;, &quot;filename&quot;: &quot;timelapse/nicfi_2016-06-01_2023-11-07_-15.631178642218794_-68.51003408432008.mp4&quot;}, &quot;type&quot;: &quot;Feature&quot;}, {&quot;bbox&quot;: [-68.27515840530397, -15.137421412267626, -68.27515840530397, -15.137421412267626], &quot;geometry&quot;: {&quot;coordinates&quot;: [-68.27515840530397, -15.137421412267626], &quot;type&quot;: &quot;Point&quot;}, &quot;id&quot;: &quot;30&quot;, &quot;properties&quot;: {&quot;__folium_color&quot;: &quot;blue&quot;, &quot;area_protegida&quot;: &quot;Apolobamba&quot;, &quot;capture&quot;: &quot;2023-11-07&quot;, &quot;filename&quot;: &quot;timelapse/nicfi_2016-06-01_2023-11-07_-15.137421412267626_-68.27515840530397.mp4&quot;}, &quot;type&quot;: &quot;Feature&quot;}, {&quot;bbox&quot;: [-68.06697607040407, -14.225823799606793, -68.06697607040407, -14.225823799606793], &quot;geometry&quot;: {&quot;coordinates&quot;: [-68.06697607040407, -14.225823799606793], &quot;type&quot;: &quot;Point&quot;}, &quot;id&quot;: &quot;31&quot;, &quot;properties&quot;: {&quot;__folium_color&quot;: &quot;blue&quot;, &quot;area_protegida&quot;: &quot;Madidi&quot;, &quot;capture&quot;: &quot;2023-11-07&quot;, &quot;filename&quot;: &quot;timelapse/nicfi_2016-06-01_2023-11-07_-14.225823799606793_-68.06697607040407.mp4&quot;}, &quot;type&quot;: &quot;Feature&quot;}, {&quot;bbox&quot;: [-68.20823192596437, -15.327482358701182, -68.20823192596437, -15.327482358701182], &quot;geometry&quot;: {&quot;coordinates&quot;: [-68.20823192596437, -15.327482358701182], &quot;type&quot;: &quot;Point&quot;}, &quot;id&quot;: &quot;32&quot;, &quot;properties&quot;: {&quot;__folium_color&quot;: &quot;blue&quot;, &quot;area_protegida&quot;: null, &quot;capture&quot;: &quot;2023-11-07&quot;, &quot;filename&quot;: &quot;timelapse/nicfi_2016-06-01_2023-11-07_-15.327482358701182_-68.20823192596437.mp4&quot;}, &quot;type&quot;: &quot;Feature&quot;}, {&quot;bbox&quot;: [-68.91590595245363, -15.113558531628366, -68.91590595245363, -15.113558531628366], &quot;geometry&quot;: {&quot;coordinates&quot;: [-68.91590595245363, -15.113558531628366], &quot;type&quot;: &quot;Point&quot;}, &quot;id&quot;: &quot;33&quot;, &quot;properties&quot;: {&quot;__folium_color&quot;: &quot;blue&quot;, &quot;area_protegida&quot;: &quot;Apolobamba&quot;, &quot;capture&quot;: &quot;2023-11-07&quot;, &quot;filename&quot;: &quot;timelapse/nicfi_2016-06-01_2023-11-07_-15.113558531628366_-68.91590595245363.mp4&quot;}, &quot;type&quot;: &quot;Feature&quot;}, {&quot;bbox&quot;: [-68.05862903594972, -15.415456560188378, -68.05862903594972, -15.415456560188378], &quot;geometry&quot;: {&quot;coordinates&quot;: [-68.05862903594972, -15.415456560188378], &quot;type&quot;: &quot;Point&quot;}, &quot;id&quot;: &quot;34&quot;, &quot;properties&quot;: {&quot;__folium_color&quot;: &quot;blue&quot;, &quot;area_protegida&quot;: null, &quot;capture&quot;: &quot;2023-11-07&quot;, &quot;filename&quot;: &quot;timelapse/nicfi_2016-06-01_2023-11-07_-15.415456560188378_-68.05862903594972.mp4&quot;}, &quot;type&quot;: &quot;Feature&quot;}, {&quot;bbox&quot;: [-68.68502140045167, -14.749651255128326, -68.68502140045167, -14.749651255128326], &quot;geometry&quot;: {&quot;coordinates&quot;: [-68.68502140045167, -14.749651255128326], &quot;type&quot;: &quot;Point&quot;}, &quot;id&quot;: &quot;35&quot;, &quot;properties&quot;: {&quot;__folium_color&quot;: &quot;blue&quot;, &quot;area_protegida&quot;: null, &quot;capture&quot;: &quot;2023-11-07&quot;, &quot;filename&quot;: &quot;timelapse/nicfi_2016-06-01_2023-11-07_-14.749651255128326_-68.68502140045167.mp4&quot;}, &quot;type&quot;: &quot;Feature&quot;}, {&quot;bbox&quot;: [-68.58374118804933, -15.350162232390616, -68.58374118804933, -15.350162232390616], &quot;geometry&quot;: {&quot;coordinates&quot;: [-68.58374118804933, -15.350162232390616], &quot;type&quot;: &quot;Point&quot;}, &quot;id&quot;: &quot;36&quot;, &quot;properties&quot;: {&quot;__folium_color&quot;: &quot;blue&quot;, &quot;area_protegida&quot;: null, &quot;capture&quot;: &quot;2023-11-07&quot;, &quot;filename&quot;: &quot;timelapse/nicfi_2016-06-01_2023-11-07_-15.350162232390616_-68.58374118804933.mp4&quot;}, &quot;type&quot;: &quot;Feature&quot;}, {&quot;bbox&quot;: [-67.96558856964113, -14.564228380814438, -67.96558856964113, -14.564228380814438], &quot;geometry&quot;: {&quot;coordinates&quot;: [-67.96558856964113, -14.564228380814438], &quot;type&quot;: &quot;Point&quot;}, &quot;id&quot;: &quot;37&quot;, &quot;properties&quot;: {&quot;__folium_color&quot;: &quot;blue&quot;, &quot;area_protegida&quot;: &quot;Madidi&quot;, &quot;capture&quot;: &quot;2023-11-07&quot;, &quot;filename&quot;: &quot;timelapse/nicfi_2016-06-01_2023-11-07_-14.564228380814438_-67.96558856964113.mp4&quot;}, &quot;type&quot;: &quot;Feature&quot;}, {&quot;bbox&quot;: [-68.99332523345949, -14.588484255674862, -68.99332523345949, -14.588484255674862], &quot;geometry&quot;: {&quot;coordinates&quot;: [-68.99332523345949, -14.588484255674862], &quot;type&quot;: &quot;Point&quot;}, &quot;id&quot;: &quot;38&quot;, &quot;properties&quot;: {&quot;__folium_color&quot;: &quot;blue&quot;, &quot;area_protegida&quot;: &quot;Madidi&quot;, &quot;capture&quot;: &quot;2023-11-07&quot;, &quot;filename&quot;: &quot;timelapse/nicfi_2016-06-01_2023-11-07_-14.588484255674862_-68.99332523345949.mp4&quot;}, &quot;type&quot;: &quot;Feature&quot;}, {&quot;bbox&quot;: [-68.68590116500856, -14.18451189132621, -68.68590116500856, -14.18451189132621], &quot;geometry&quot;: {&quot;coordinates&quot;: [-68.68590116500856, -14.18451189132621], &quot;type&quot;: &quot;Point&quot;}, &quot;id&quot;: &quot;39&quot;, &quot;properties&quot;: {&quot;__folium_color&quot;: &quot;blue&quot;, &quot;area_protegida&quot;: &quot;Madidi&quot;, &quot;capture&quot;: &quot;2023-11-07&quot;, &quot;filename&quot;: &quot;timelapse/nicfi_2016-06-01_2023-11-07_-14.18451189132621_-68.68590116500856.mp4&quot;}, &quot;type&quot;: &quot;Feature&quot;}, {&quot;bbox&quot;: [-68.15295696258546, -15.441767110328934, -68.15295696258546, -15.441767110328934], &quot;geometry&quot;: {&quot;coordinates&quot;: [-68.15295696258546, -15.441767110328934], &quot;type&quot;: &quot;Point&quot;}, &quot;id&quot;: &quot;40&quot;, &quot;properties&quot;: {&quot;__folium_color&quot;: &quot;blue&quot;, &quot;area_protegida&quot;: null, &quot;capture&quot;: &quot;2023-11-07&quot;, &quot;filename&quot;: &quot;timelapse/nicfi_2016-06-01_2023-11-07_-15.441767110328934_-68.15295696258546.mp4&quot;}, &quot;type&quot;: &quot;Feature&quot;}, {&quot;bbox&quot;: [-68.45214128494264, -15.570417235707161, -68.45214128494264, -15.570417235707161], &quot;geometry&quot;: {&quot;coordinates&quot;: [-68.45214128494264, -15.570417235707161], &quot;type&quot;: &quot;Point&quot;}, &quot;id&quot;: &quot;41&quot;, &quot;properties&quot;: {&quot;__folium_color&quot;: &quot;blue&quot;, &quot;area_protegida&quot;: null, &quot;capture&quot;: &quot;2023-11-07&quot;, &quot;filename&quot;: &quot;timelapse/nicfi_2016-06-01_2023-11-07_-15.570417235707161_-68.45214128494264.mp4&quot;}, &quot;type&quot;: &quot;Feature&quot;}, {&quot;bbox&quot;: [-68.09261798858644, -14.491195463046594, -68.09261798858644, -14.491195463046594], &quot;geometry&quot;: {&quot;coordinates&quot;: [-68.09261798858644, -14.491195463046594], &quot;type&quot;: &quot;Point&quot;}, &quot;id&quot;: &quot;42&quot;, &quot;properties&quot;: {&quot;__folium_color&quot;: &quot;blue&quot;, &quot;area_protegida&quot;: &quot;Madidi&quot;, &quot;capture&quot;: &quot;2023-11-07&quot;, &quot;filename&quot;: &quot;timelapse/nicfi_2016-06-01_2023-11-07_-14.491195463046594_-68.09261798858644.mp4&quot;}, &quot;type&quot;: &quot;Feature&quot;}, {&quot;bbox&quot;: [-68.97856235504152, -14.669041072847948, -68.97856235504152, -14.669041072847948], &quot;geometry&quot;: {&quot;coordinates&quot;: [-68.97856235504152, -14.669041072847948], &quot;type&quot;: &quot;Point&quot;}, &quot;id&quot;: &quot;43&quot;, &quot;properties&quot;: {&quot;__folium_color&quot;: &quot;blue&quot;, &quot;area_protegida&quot;: &quot;Madidi&quot;, &quot;capture&quot;: &quot;2023-11-07&quot;, &quot;filename&quot;: &quot;timelapse/nicfi_2016-06-01_2023-11-07_-14.669041072847948_-68.97856235504152.mp4&quot;}, &quot;type&quot;: &quot;Feature&quot;}, {&quot;bbox&quot;: [-68.62453222274782, -14.223619024264735, -68.62453222274782, -14.223619024264735], &quot;geometry&quot;: {&quot;coordinates&quot;: [-68.62453222274782, -14.223619024264735], &quot;type&quot;: &quot;Point&quot;}, &quot;id&quot;: &quot;44&quot;, &quot;properties&quot;: {&quot;__folium_color&quot;: &quot;blue&quot;, &quot;area_protegida&quot;: &quot;Madidi&quot;, &quot;capture&quot;: &quot;2023-11-07&quot;, &quot;filename&quot;: &quot;timelapse/nicfi_2016-06-01_2023-11-07_-14.223619024264735_-68.62453222274782.mp4&quot;}, &quot;type&quot;: &quot;Feature&quot;}, {&quot;bbox&quot;: [-68.57033014297487, -14.565806755245422, -68.57033014297487, -14.565806755245422], &quot;geometry&quot;: {&quot;coordinates&quot;: [-68.57033014297487, -14.565806755245422], &quot;type&quot;: &quot;Point&quot;}, &quot;id&quot;: &quot;45&quot;, &quot;properties&quot;: {&quot;__folium_color&quot;: &quot;blue&quot;, &quot;area_protegida&quot;: &quot;Madidi&quot;, &quot;capture&quot;: &quot;2023-11-07&quot;, &quot;filename&quot;: &quot;timelapse/nicfi_2016-06-01_2023-11-07_-14.565806755245422_-68.57033014297487.mp4&quot;}, &quot;type&quot;: &quot;Feature&quot;}, {&quot;bbox&quot;: [-68.5766386985779, -14.414356148555393, -68.5766386985779, -14.414356148555393], &quot;geometry&quot;: {&quot;coordinates&quot;: [-68.5766386985779, -14.414356148555393], &quot;type&quot;: &quot;Point&quot;}, &quot;id&quot;: &quot;46&quot;, &quot;properties&quot;: {&quot;__folium_color&quot;: &quot;blue&quot;, &quot;area_protegida&quot;: &quot;Madidi&quot;, &quot;capture&quot;: &quot;2023-11-07&quot;, &quot;filename&quot;: &quot;timelapse/nicfi_2016-06-01_2023-11-07_-14.414356148555393_-68.5766386985779.mp4&quot;}, &quot;type&quot;: &quot;Feature&quot;}, {&quot;bbox&quot;: [-68.49130153656007, -15.01982107621114, -68.49130153656007, -15.01982107621114], &quot;geometry&quot;: {&quot;coordinates&quot;: [-68.49130153656007, -15.01982107621114], &quot;type&quot;: &quot;Point&quot;}, &quot;id&quot;: &quot;47&quot;, &quot;properties&quot;: {&quot;__folium_color&quot;: &quot;blue&quot;, &quot;area_protegida&quot;: null, &quot;capture&quot;: &quot;2023-11-07&quot;, &quot;filename&quot;: &quot;timelapse/nicfi_2016-06-01_2023-11-07_-15.01982107621114_-68.49130153656007.mp4&quot;}, &quot;type&quot;: &quot;Feature&quot;}, {&quot;bbox&quot;: [-68.05942296981813, -15.584100454760607, -68.05942296981813, -15.584100454760607], &quot;geometry&quot;: {&quot;coordinates&quot;: [-68.05942296981813, -15.584100454760607], &quot;type&quot;: &quot;Point&quot;}, &quot;id&quot;: &quot;48&quot;, &quot;properties&quot;: {&quot;__folium_color&quot;: &quot;blue&quot;, &quot;area_protegida&quot;: null, &quot;capture&quot;: &quot;2023-11-07&quot;, &quot;filename&quot;: &quot;timelapse/nicfi_2016-06-01_2023-11-07_-15.584100454760607_-68.05942296981813.mp4&quot;}, &quot;type&quot;: &quot;Feature&quot;}, {&quot;bbox&quot;: [-67.63677120208742, -15.383267111697469, -67.63677120208742, -15.383267111697469], &quot;geometry&quot;: {&quot;coordinates&quot;: [-67.63677120208742, -15.383267111697469], &quot;type&quot;: &quot;Point&quot;}, &quot;id&quot;: &quot;49&quot;, &quot;properties&quot;: {&quot;__folium_color&quot;: &quot;blue&quot;, &quot;area_protegida&quot;: null, &quot;capture&quot;: &quot;2023-11-07&quot;, &quot;filename&quot;: &quot;timelapse/nicfi_2016-06-01_2023-11-07_-15.383267111697469_-67.63677120208742.mp4&quot;}, &quot;type&quot;: &quot;Feature&quot;}, {&quot;bbox&quot;: [-68.24299335479738, -15.38765311364542, -68.24299335479738, -15.38765311364542], &quot;geometry&quot;: {&quot;coordinates&quot;: [-68.24299335479738, -15.38765311364542], &quot;type&quot;: &quot;Point&quot;}, &quot;id&quot;: &quot;50&quot;, &quot;properties&quot;: {&quot;__folium_color&quot;: &quot;blue&quot;, &quot;area_protegida&quot;: null, &quot;capture&quot;: &quot;2023-11-07&quot;, &quot;filename&quot;: &quot;timelapse/nicfi_2016-06-01_2023-11-07_-15.38765311364542_-68.24299335479738.mp4&quot;}, &quot;type&quot;: &quot;Feature&quot;}, {&quot;bbox&quot;: [-68.57762575149538, -14.482386679605604, -68.57762575149538, -14.482386679605604], &quot;geometry&quot;: {&quot;coordinates&quot;: [-68.57762575149538, -14.482386679605604], &quot;type&quot;: &quot;Point&quot;}, &quot;id&quot;: &quot;51&quot;, &quot;properties&quot;: {&quot;__folium_color&quot;: &quot;blue&quot;, &quot;area_protegida&quot;: &quot;Madidi&quot;, &quot;capture&quot;: &quot;2023-11-07&quot;, &quot;filename&quot;: &quot;timelapse/nicfi_2016-06-01_2023-11-07_-14.482386679605604_-68.57762575149538.mp4&quot;}, &quot;type&quot;: &quot;Feature&quot;}, {&quot;bbox&quot;: [-69.22824382781984, -14.993126127518783, -69.22824382781984, -14.993126127518783], &quot;geometry&quot;: {&quot;coordinates&quot;: [-69.22824382781984, -14.993126127518783], &quot;type&quot;: &quot;Point&quot;}, &quot;id&quot;: &quot;52&quot;, &quot;properties&quot;: {&quot;__folium_color&quot;: &quot;blue&quot;, &quot;area_protegida&quot;: &quot;Apolobamba&quot;, &quot;capture&quot;: &quot;2023-11-07&quot;, &quot;filename&quot;: &quot;timelapse/nicfi_2016-06-01_2023-11-07_-14.993126127518783_-69.22824382781984.mp4&quot;}, &quot;type&quot;: &quot;Feature&quot;}, {&quot;bbox&quot;: [-68.13027620315553, -14.175566225950085, -68.13027620315553, -14.175566225950085], &quot;geometry&quot;: {&quot;coordinates&quot;: [-68.13027620315553, -14.175566225950085], &quot;type&quot;: &quot;Point&quot;}, &quot;id&quot;: &quot;53&quot;, &quot;properties&quot;: {&quot;__folium_color&quot;: &quot;blue&quot;, &quot;area_protegida&quot;: &quot;Madidi&quot;, &quot;capture&quot;: &quot;2023-11-07&quot;, &quot;filename&quot;: &quot;timelapse/nicfi_2016-06-01_2023-11-07_-14.175566225950085_-68.13027620315553.mp4&quot;}, &quot;type&quot;: &quot;Feature&quot;}, {&quot;bbox&quot;: [-68.22537660598756, -15.154032698767267, -68.22537660598756, -15.154032698767267], &quot;geometry&quot;: {&quot;coordinates&quot;: [-68.22537660598756, -15.154032698767267], &quot;type&quot;: &quot;Point&quot;}, &quot;id&quot;: &quot;54&quot;, &quot;properties&quot;: {&quot;__folium_color&quot;: &quot;blue&quot;, &quot;area_protegida&quot;: &quot;Apolobamba&quot;, &quot;capture&quot;: &quot;2023-11-07&quot;, &quot;filename&quot;: &quot;timelapse/nicfi_2016-06-01_2023-11-07_-15.154032698767267_-68.22537660598756.mp4&quot;}, &quot;type&quot;: &quot;Feature&quot;}, {&quot;bbox&quot;: [-67.78903484344484, -15.46914970452945, -67.78903484344484, -15.46914970452945], &quot;geometry&quot;: {&quot;coordinates&quot;: [-67.78903484344484, -15.46914970452945], &quot;type&quot;: &quot;Point&quot;}, &quot;id&quot;: &quot;55&quot;, &quot;properties&quot;: {&quot;__folium_color&quot;: &quot;blue&quot;, &quot;area_protegida&quot;: null, &quot;capture&quot;: &quot;2023-11-07&quot;, &quot;filename&quot;: &quot;timelapse/nicfi_2016-06-01_2023-11-07_-15.46914970452945_-67.78903484344484.mp4&quot;}, &quot;type&quot;: &quot;Feature&quot;}, {&quot;bbox&quot;: [-68.71637105941774, -14.051039324532862, -68.71637105941774, -14.051039324532862], &quot;geometry&quot;: {&quot;coordinates&quot;: [-68.71637105941774, -14.051039324532862], &quot;type&quot;: &quot;Point&quot;}, &quot;id&quot;: &quot;56&quot;, &quot;properties&quot;: {&quot;__folium_color&quot;: &quot;blue&quot;, &quot;area_protegida&quot;: &quot;Madidi&quot;, &quot;capture&quot;: &quot;2023-11-07&quot;, &quot;filename&quot;: &quot;timelapse/nicfi_2016-06-01_2023-11-07_-14.051039324532862_-68.71637105941774.mp4&quot;}, &quot;type&quot;: &quot;Feature&quot;}, {&quot;bbox&quot;: [-68.31852436065675, -15.315644804770526, -68.31852436065675, -15.315644804770526], &quot;geometry&quot;: {&quot;coordinates&quot;: [-68.31852436065675, -15.315644804770526], &quot;type&quot;: &quot;Point&quot;}, &quot;id&quot;: &quot;57&quot;, &quot;properties&quot;: {&quot;__folium_color&quot;: &quot;blue&quot;, &quot;area_protegida&quot;: null, &quot;capture&quot;: &quot;2023-11-07&quot;, &quot;filename&quot;: &quot;timelapse/nicfi_2016-06-01_2023-11-07_-15.315644804770526_-68.31852436065675.mp4&quot;}, &quot;type&quot;: &quot;Feature&quot;}, {&quot;bbox&quot;: [-68.68049383163454, -14.515874812197877, -68.68049383163454, -14.515874812197877], &quot;geometry&quot;: {&quot;coordinates&quot;: [-68.68049383163454, -14.515874812197877], &quot;type&quot;: &quot;Point&quot;}, &quot;id&quot;: &quot;58&quot;, &quot;properties&quot;: {&quot;__folium_color&quot;: &quot;blue&quot;, &quot;area_protegida&quot;: &quot;Madidi&quot;, &quot;capture&quot;: &quot;2023-11-07&quot;, &quot;filename&quot;: &quot;timelapse/nicfi_2016-06-01_2023-11-07_-14.515874812197877_-68.68049383163454.mp4&quot;}, &quot;type&quot;: &quot;Feature&quot;}, {&quot;bbox&quot;: [-68.53350877761842, -14.265048562179835, -68.53350877761842, -14.265048562179835], &quot;geometry&quot;: {&quot;coordinates&quot;: [-68.53350877761842, -14.265048562179835], &quot;type&quot;: &quot;Point&quot;}, &quot;id&quot;: &quot;59&quot;, &quot;properties&quot;: {&quot;__folium_color&quot;: &quot;blue&quot;, &quot;area_protegida&quot;: &quot;Madidi&quot;, &quot;capture&quot;: &quot;2023-11-07&quot;, &quot;filename&quot;: &quot;timelapse/nicfi_2016-06-01_2023-11-07_-14.265048562179835_-68.53350877761842.mp4&quot;}, &quot;type&quot;: &quot;Feature&quot;}, {&quot;bbox&quot;: [-68.32210779190065, -14.392076515110293, -68.32210779190065, -14.392076515110293], &quot;geometry&quot;: {&quot;coordinates&quot;: [-68.32210779190065, -14.392076515110293], &quot;type&quot;: &quot;Point&quot;}, &quot;id&quot;: &quot;60&quot;, &quot;properties&quot;: {&quot;__folium_color&quot;: &quot;blue&quot;, &quot;area_protegida&quot;: &quot;Madidi&quot;, &quot;capture&quot;: &quot;2023-11-07&quot;, &quot;filename&quot;: &quot;timelapse/nicfi_2016-06-01_2023-11-07_-14.392076515110293_-68.32210779190065.mp4&quot;}, &quot;type&quot;: &quot;Feature&quot;}, {&quot;bbox&quot;: [-67.70363330841066, -15.058613994995557, -67.70363330841066, -15.058613994995557], &quot;geometry&quot;: {&quot;coordinates&quot;: [-67.70363330841066, -15.058613994995557], &quot;type&quot;: &quot;Point&quot;}, &quot;id&quot;: &quot;61&quot;, &quot;properties&quot;: {&quot;__folium_color&quot;: &quot;blue&quot;, &quot;area_protegida&quot;: null, &quot;capture&quot;: &quot;2023-11-07&quot;, &quot;filename&quot;: &quot;timelapse/nicfi_2016-06-01_2023-11-07_-15.058613994995557_-67.70363330841066.mp4&quot;}, &quot;type&quot;: &quot;Feature&quot;}, {&quot;bbox&quot;: [-68.7038826942444, -14.641181725026975, -68.7038826942444, -14.641181725026975], &quot;geometry&quot;: {&quot;coordinates&quot;: [-68.7038826942444, -14.641181725026975], &quot;type&quot;: &quot;Point&quot;}, &quot;id&quot;: &quot;62&quot;, &quot;properties&quot;: {&quot;__folium_color&quot;: &quot;blue&quot;, &quot;area_protegida&quot;: &quot;Madidi&quot;, &quot;capture&quot;: &quot;2023-11-07&quot;, &quot;filename&quot;: &quot;timelapse/nicfi_2016-06-01_2023-11-07_-14.641181725026975_-68.7038826942444.mp4&quot;}, &quot;type&quot;: &quot;Feature&quot;}, {&quot;bbox&quot;: [-67.67779827117921, -15.14819197107087, -67.67779827117921, -15.14819197107087], &quot;geometry&quot;: {&quot;coordinates&quot;: [-67.67779827117921, -15.14819197107087], &quot;type&quot;: &quot;Point&quot;}, &quot;id&quot;: &quot;63&quot;, &quot;properties&quot;: {&quot;__folium_color&quot;: &quot;blue&quot;, &quot;area_protegida&quot;: null, &quot;capture&quot;: &quot;2023-11-07&quot;, &quot;filename&quot;: &quot;timelapse/nicfi_2016-06-01_2023-11-07_-15.14819197107087_-67.67779827117921.mp4&quot;}, &quot;type&quot;: &quot;Feature&quot;}, {&quot;bbox&quot;: [-67.66252040863039, -15.356783628704404, -67.66252040863039, -15.356783628704404], &quot;geometry&quot;: {&quot;coordinates&quot;: [-67.66252040863039, -15.356783628704404], &quot;type&quot;: &quot;Point&quot;}, &quot;id&quot;: &quot;64&quot;, &quot;properties&quot;: {&quot;__folium_color&quot;: &quot;blue&quot;, &quot;area_protegida&quot;: null, &quot;capture&quot;: &quot;2023-11-07&quot;, &quot;filename&quot;: &quot;timelapse/nicfi_2016-06-01_2023-11-07_-15.356783628704404_-67.66252040863039.mp4&quot;}, &quot;type&quot;: &quot;Feature&quot;}, {&quot;bbox&quot;: [-68.2797932624817, -15.624318051619392, -68.2797932624817, -15.624318051619392], &quot;geometry&quot;: {&quot;coordinates&quot;: [-68.2797932624817, -15.624318051619392], &quot;type&quot;: &quot;Point&quot;}, &quot;id&quot;: &quot;65&quot;, &quot;properties&quot;: {&quot;__folium_color&quot;: &quot;blue&quot;, &quot;area_protegida&quot;: null, &quot;capture&quot;: &quot;2023-11-07&quot;, &quot;filename&quot;: &quot;timelapse/nicfi_2016-06-01_2023-11-07_-15.624318051619392_-68.2797932624817.mp4&quot;}, &quot;type&quot;: &quot;Feature&quot;}, {&quot;bbox&quot;: [-68.41317415237428, -15.227959865047405, -68.41317415237428, -15.227959865047405], &quot;geometry&quot;: {&quot;coordinates&quot;: [-68.41317415237428, -15.227959865047405], &quot;type&quot;: &quot;Point&quot;}, &quot;id&quot;: &quot;66&quot;, &quot;properties&quot;: {&quot;__folium_color&quot;: &quot;blue&quot;, &quot;area_protegida&quot;: null, &quot;capture&quot;: &quot;2023-11-07&quot;, &quot;filename&quot;: &quot;timelapse/nicfi_2016-06-01_2023-11-07_-15.227959865047405_-68.41317415237428.mp4&quot;}, &quot;type&quot;: &quot;Feature&quot;}, {&quot;bbox&quot;: [-68.68753194808961, -14.604390339353875, -68.68753194808961, -14.604390339353875], &quot;geometry&quot;: {&quot;coordinates&quot;: [-68.68753194808961, -14.604390339353875], &quot;type&quot;: &quot;Point&quot;}, &quot;id&quot;: &quot;67&quot;, &quot;properties&quot;: {&quot;__folium_color&quot;: &quot;blue&quot;, &quot;area_protegida&quot;: &quot;Madidi&quot;, &quot;capture&quot;: &quot;2023-11-07&quot;, &quot;filename&quot;: &quot;timelapse/nicfi_2016-06-01_2023-11-07_-14.604390339353875_-68.68753194808961.mp4&quot;}, &quot;type&quot;: &quot;Feature&quot;}, {&quot;bbox&quot;: [-67.69856929779054, -15.263733782862984, -67.69856929779054, -15.263733782862984], &quot;geometry&quot;: {&quot;coordinates&quot;: [-67.69856929779054, -15.263733782862984], &quot;type&quot;: &quot;Point&quot;}, &quot;id&quot;: &quot;68&quot;, &quot;properties&quot;: {&quot;__folium_color&quot;: &quot;blue&quot;, &quot;area_protegida&quot;: null, &quot;capture&quot;: &quot;2023-11-07&quot;, &quot;filename&quot;: &quot;timelapse/nicfi_2016-06-01_2023-11-07_-15.263733782862984_-67.69856929779054.mp4&quot;}, &quot;type&quot;: &quot;Feature&quot;}, {&quot;bbox&quot;: [-68.69083642959596, -14.56726051117333, -68.69083642959596, -14.56726051117333], &quot;geometry&quot;: {&quot;coordinates&quot;: [-68.69083642959596, -14.56726051117333], &quot;type&quot;: &quot;Point&quot;}, &quot;id&quot;: &quot;69&quot;, &quot;properties&quot;: {&quot;__folium_color&quot;: &quot;blue&quot;, &quot;area_protegida&quot;: &quot;Madidi&quot;, &quot;capture&quot;: &quot;2023-11-07&quot;, &quot;filename&quot;: &quot;timelapse/nicfi_2016-06-01_2023-11-07_-14.56726051117333_-68.69083642959596.mp4&quot;}, &quot;type&quot;: &quot;Feature&quot;}, {&quot;bbox&quot;: [-68.26949357986452, -15.29097418394084, -68.26949357986452, -15.29097418394084], &quot;geometry&quot;: {&quot;coordinates&quot;: [-68.26949357986452, -15.29097418394084], &quot;type&quot;: &quot;Point&quot;}, &quot;id&quot;: &quot;70&quot;, &quot;properties&quot;: {&quot;__folium_color&quot;: &quot;blue&quot;, &quot;area_protegida&quot;: &quot;Apolobamba&quot;, &quot;capture&quot;: &quot;2023-11-07&quot;, &quot;filename&quot;: &quot;timelapse/nicfi_2016-06-01_2023-11-07_-15.29097418394084_-68.26949357986452.mp4&quot;}, &quot;type&quot;: &quot;Feature&quot;}, {&quot;bbox&quot;: [-68.31704378128053, -15.146079327736585, -68.31704378128053, -15.146079327736585], &quot;geometry&quot;: {&quot;coordinates&quot;: [-68.31704378128053, -15.146079327736585], &quot;type&quot;: &quot;Point&quot;}, &quot;id&quot;: &quot;71&quot;, &quot;properties&quot;: {&quot;__folium_color&quot;: &quot;blue&quot;, &quot;area_protegida&quot;: null, &quot;capture&quot;: &quot;2023-11-07&quot;, &quot;filename&quot;: &quot;timelapse/nicfi_2016-06-01_2023-11-07_-15.146079327736585_-68.31704378128053.mp4&quot;}, &quot;type&quot;: &quot;Feature&quot;}, {&quot;bbox&quot;: [-68.55908632278444, -14.396856847792403, -68.55908632278444, -14.396856847792403], &quot;geometry&quot;: {&quot;coordinates&quot;: [-68.55908632278444, -14.396856847792403], &quot;type&quot;: &quot;Point&quot;}, &quot;id&quot;: &quot;72&quot;, &quot;properties&quot;: {&quot;__folium_color&quot;: &quot;blue&quot;, &quot;area_protegida&quot;: &quot;Madidi&quot;, &quot;capture&quot;: &quot;2023-11-07&quot;, &quot;filename&quot;: &quot;timelapse/nicfi_2016-06-01_2023-11-07_-14.396856847792403_-68.55908632278444.mp4&quot;}, &quot;type&quot;: &quot;Feature&quot;}, {&quot;bbox&quot;: [-68.58775377273561, -14.437838799413214, -68.58775377273561, -14.437838799413214], &quot;geometry&quot;: {&quot;coordinates&quot;: [-68.58775377273561, -14.437838799413214], &quot;type&quot;: &quot;Point&quot;}, &quot;id&quot;: &quot;73&quot;, &quot;properties&quot;: {&quot;__folium_color&quot;: &quot;blue&quot;, &quot;area_protegida&quot;: &quot;Madidi&quot;, &quot;capture&quot;: &quot;2023-11-07&quot;, &quot;filename&quot;: &quot;timelapse/nicfi_2016-06-01_2023-11-07_-14.437838799413214_-68.58775377273561.mp4&quot;}, &quot;type&quot;: &quot;Feature&quot;}, {&quot;bbox&quot;: [-68.0146622657776, -15.562355698478902, -68.0146622657776, -15.562355698478902], &quot;geometry&quot;: {&quot;coordinates&quot;: [-68.0146622657776, -15.562355698478902], &quot;type&quot;: &quot;Point&quot;}, &quot;id&quot;: &quot;74&quot;, &quot;properties&quot;: {&quot;__folium_color&quot;: &quot;blue&quot;, &quot;area_protegida&quot;: null, &quot;capture&quot;: &quot;2023-11-07&quot;, &quot;filename&quot;: &quot;timelapse/nicfi_2016-06-01_2023-11-07_-15.562355698478902_-68.0146622657776.mp4&quot;}, &quot;type&quot;: &quot;Feature&quot;}, {&quot;bbox&quot;: [-68.12589883804323, -15.599849497047312, -68.12589883804323, -15.599849497047312], &quot;geometry&quot;: {&quot;coordinates&quot;: [-68.12589883804323, -15.599849497047312], &quot;type&quot;: &quot;Point&quot;}, &quot;id&quot;: &quot;75&quot;, &quot;properties&quot;: {&quot;__folium_color&quot;: &quot;blue&quot;, &quot;area_protegida&quot;: null, &quot;capture&quot;: &quot;2023-11-07&quot;, &quot;filename&quot;: &quot;timelapse/nicfi_2016-06-01_2023-11-07_-15.599849497047312_-68.12589883804323.mp4&quot;}, &quot;type&quot;: &quot;Feature&quot;}, {&quot;bbox&quot;: [-68.56097459793092, -14.376945048455003, -68.56097459793092, -14.376945048455003], &quot;geometry&quot;: {&quot;coordinates&quot;: [-68.56097459793092, -14.376945048455003], &quot;type&quot;: &quot;Point&quot;}, &quot;id&quot;: &quot;76&quot;, &quot;properties&quot;: {&quot;__folium_color&quot;: &quot;blue&quot;, &quot;area_protegida&quot;: &quot;Madidi&quot;, &quot;capture&quot;: &quot;2023-11-07&quot;, &quot;filename&quot;: &quot;timelapse/nicfi_2016-06-01_2023-11-07_-14.376945048455003_-68.56097459793092.mp4&quot;}, &quot;type&quot;: &quot;Feature&quot;}, {&quot;bbox&quot;: [-68.73255014419557, -14.659699659520859, -68.73255014419557, -14.659699659520859], &quot;geometry&quot;: {&quot;coordinates&quot;: [-68.73255014419557, -14.659699659520859], &quot;type&quot;: &quot;Point&quot;}, &quot;id&quot;: &quot;77&quot;, &quot;properties&quot;: {&quot;__folium_color&quot;: &quot;blue&quot;, &quot;area_protegida&quot;: &quot;Madidi&quot;, &quot;capture&quot;: &quot;2023-11-07&quot;, &quot;filename&quot;: &quot;timelapse/nicfi_2016-06-01_2023-11-07_-14.659699659520859_-68.73255014419557.mp4&quot;}, &quot;type&quot;: &quot;Feature&quot;}, {&quot;bbox&quot;: [-68.20325374603273, -15.381115454324798, -68.20325374603273, -15.381115454324798], &quot;geometry&quot;: {&quot;coordinates&quot;: [-68.20325374603273, -15.381115454324798], &quot;type&quot;: &quot;Point&quot;}, &quot;id&quot;: &quot;78&quot;, &quot;properties&quot;: {&quot;__folium_color&quot;: &quot;blue&quot;, &quot;area_protegida&quot;: null, &quot;capture&quot;: &quot;2023-11-07&quot;, &quot;filename&quot;: &quot;timelapse/nicfi_2016-06-01_2023-11-07_-15.381115454324798_-68.20325374603273.mp4&quot;}, &quot;type&quot;: &quot;Feature&quot;}, {&quot;bbox&quot;: [-68.49602222442628, -15.350658844401716, -68.49602222442628, -15.350658844401716], &quot;geometry&quot;: {&quot;coordinates&quot;: [-68.49602222442628, -15.350658844401716], &quot;type&quot;: &quot;Point&quot;}, &quot;id&quot;: &quot;79&quot;, &quot;properties&quot;: {&quot;__folium_color&quot;: &quot;blue&quot;, &quot;area_protegida&quot;: null, &quot;capture&quot;: &quot;2023-11-07&quot;, &quot;filename&quot;: &quot;timelapse/nicfi_2016-06-01_2023-11-07_-15.350658844401716_-68.49602222442628.mp4&quot;}, &quot;type&quot;: &quot;Feature&quot;}, {&quot;bbox&quot;: [-69.12642717361452, -15.219139665674255, -69.12642717361452, -15.219139665674255], &quot;geometry&quot;: {&quot;coordinates&quot;: [-69.12642717361452, -15.219139665674255], &quot;type&quot;: &quot;Point&quot;}, &quot;id&quot;: &quot;80&quot;, &quot;properties&quot;: {&quot;__folium_color&quot;: &quot;blue&quot;, &quot;area_protegida&quot;: &quot;Apolobamba&quot;, &quot;capture&quot;: &quot;2023-11-07&quot;, &quot;filename&quot;: &quot;timelapse/nicfi_2016-06-01_2023-11-07_-15.219139665674255_-69.12642717361452.mp4&quot;}, &quot;type&quot;: &quot;Feature&quot;}, {&quot;bbox&quot;: [-68.16634654998781, -15.404616968049377, -68.16634654998781, -15.404616968049377], &quot;geometry&quot;: {&quot;coordinates&quot;: [-68.16634654998781, -15.404616968049377], &quot;type&quot;: &quot;Point&quot;}, &quot;id&quot;: &quot;81&quot;, &quot;properties&quot;: {&quot;__folium_color&quot;: &quot;blue&quot;, &quot;area_protegida&quot;: null, &quot;capture&quot;: &quot;2023-11-07&quot;, &quot;filename&quot;: &quot;timelapse/nicfi_2016-06-01_2023-11-07_-15.404616968049377_-68.16634654998781.mp4&quot;}, &quot;type&quot;: &quot;Feature&quot;}, {&quot;bbox&quot;: [-68.68431329727174, -14.585950804619662, -68.68431329727174, -14.585950804619662], &quot;geometry&quot;: {&quot;coordinates&quot;: [-68.68431329727174, -14.585950804619662], &quot;type&quot;: &quot;Point&quot;}, &quot;id&quot;: &quot;82&quot;, &quot;properties&quot;: {&quot;__folium_color&quot;: &quot;blue&quot;, &quot;area_protegida&quot;: &quot;Madidi&quot;, &quot;capture&quot;: &quot;2023-11-07&quot;, &quot;filename&quot;: &quot;timelapse/nicfi_2016-06-01_2023-11-07_-14.585950804619662_-68.68431329727174.mp4&quot;}, &quot;type&quot;: &quot;Feature&quot;}, {&quot;bbox&quot;: [-68.25910806655885, -15.184476432890705, -68.25910806655885, -15.184476432890705], &quot;geometry&quot;: {&quot;coordinates&quot;: [-68.25910806655885, -15.184476432890705], &quot;type&quot;: &quot;Point&quot;}, &quot;id&quot;: &quot;83&quot;, &quot;properties&quot;: {&quot;__folium_color&quot;: &quot;blue&quot;, &quot;area_protegida&quot;: &quot;Apolobamba&quot;, &quot;capture&quot;: &quot;2023-11-07&quot;, &quot;filename&quot;: &quot;timelapse/nicfi_2016-06-01_2023-11-07_-15.184476432890705_-68.25910806655885.mp4&quot;}, &quot;type&quot;: &quot;Feature&quot;}, {&quot;bbox&quot;: [-68.91513347625734, -15.076764665951556, -68.91513347625734, -15.076764665951556], &quot;geometry&quot;: {&quot;coordinates&quot;: [-68.91513347625734, -15.076764665951556], &quot;type&quot;: &quot;Point&quot;}, &quot;id&quot;: &quot;84&quot;, &quot;properties&quot;: {&quot;__folium_color&quot;: &quot;blue&quot;, &quot;area_protegida&quot;: &quot;Apolobamba&quot;, &quot;capture&quot;: &quot;2023-11-07&quot;, &quot;filename&quot;: &quot;timelapse/nicfi_2016-06-01_2023-11-07_-15.076764665951556_-68.91513347625734.mp4&quot;}, &quot;type&quot;: &quot;Feature&quot;}, {&quot;bbox&quot;: [-67.98567295074464, -15.411815844194384, -67.98567295074464, -15.411815844194384], &quot;geometry&quot;: {&quot;coordinates&quot;: [-67.98567295074464, -15.411815844194384], &quot;type&quot;: &quot;Point&quot;}, &quot;id&quot;: &quot;85&quot;, &quot;properties&quot;: {&quot;__folium_color&quot;: &quot;blue&quot;, &quot;area_protegida&quot;: null, &quot;capture&quot;: &quot;2023-11-07&quot;, &quot;filename&quot;: &quot;timelapse/nicfi_2016-06-01_2023-11-07_-15.411815844194384_-67.98567295074464.mp4&quot;}, &quot;type&quot;: &quot;Feature&quot;}, {&quot;bbox&quot;: [-68.29172372817995, -15.13696572270021, -68.29172372817995, -15.13696572270021], &quot;geometry&quot;: {&quot;coordinates&quot;: [-68.29172372817995, -15.13696572270021], &quot;type&quot;: &quot;Point&quot;}, &quot;id&quot;: &quot;86&quot;, &quot;properties&quot;: {&quot;__folium_color&quot;: &quot;blue&quot;, &quot;area_protegida&quot;: &quot;Apolobamba&quot;, &quot;capture&quot;: &quot;2023-11-07&quot;, &quot;filename&quot;: &quot;timelapse/nicfi_2016-06-01_2023-11-07_-15.13696572270021_-68.29172372817995.mp4&quot;}, &quot;type&quot;: &quot;Feature&quot;}, {&quot;bbox&quot;: [-67.62466907501222, -15.416201244238533, -67.62466907501222, -15.416201244238533], &quot;geometry&quot;: {&quot;coordinates&quot;: [-67.62466907501222, -15.416201244238533], &quot;type&quot;: &quot;Point&quot;}, &quot;id&quot;: &quot;87&quot;, &quot;properties&quot;: {&quot;__folium_color&quot;: &quot;blue&quot;, &quot;area_protegida&quot;: null, &quot;capture&quot;: &quot;2023-11-07&quot;, &quot;filename&quot;: &quot;timelapse/nicfi_2016-06-01_2023-11-07_-15.416201244238533_-67.62466907501222.mp4&quot;}, &quot;type&quot;: &quot;Feature&quot;}, {&quot;bbox&quot;: [-68.09064388275148, -15.433990125079315, -68.09064388275148, -15.433990125079315], &quot;geometry&quot;: {&quot;coordinates&quot;: [-68.09064388275148, -15.433990125079315], &quot;type&quot;: &quot;Point&quot;}, &quot;id&quot;: &quot;88&quot;, &quot;properties&quot;: {&quot;__folium_color&quot;: &quot;blue&quot;, &quot;area_protegida&quot;: null, &quot;capture&quot;: &quot;2023-11-07&quot;, &quot;filename&quot;: &quot;timelapse/nicfi_2016-06-01_2023-11-07_-15.433990125079315_-68.09064388275148.mp4&quot;}, &quot;type&quot;: &quot;Feature&quot;}, {&quot;bbox&quot;: [-67.7346181869507, -15.024297542276203, -67.7346181869507, -15.024297542276203], &quot;geometry&quot;: {&quot;coordinates&quot;: [-67.7346181869507, -15.024297542276203], &quot;type&quot;: &quot;Point&quot;}, &quot;id&quot;: &quot;89&quot;, &quot;properties&quot;: {&quot;__folium_color&quot;: &quot;blue&quot;, &quot;area_protegida&quot;: null, &quot;capture&quot;: &quot;2023-11-07&quot;, &quot;filename&quot;: &quot;timelapse/nicfi_2016-06-01_2023-11-07_-15.024297542276203_-67.7346181869507.mp4&quot;}, &quot;type&quot;: &quot;Feature&quot;}, {&quot;bbox&quot;: [-68.39472055435182, -15.229243525230315, -68.39472055435182, -15.229243525230315], &quot;geometry&quot;: {&quot;coordinates&quot;: [-68.39472055435182, -15.229243525230315], &quot;type&quot;: &quot;Point&quot;}, &quot;id&quot;: &quot;90&quot;, &quot;properties&quot;: {&quot;__folium_color&quot;: &quot;blue&quot;, &quot;area_protegida&quot;: &quot;Apolobamba&quot;, &quot;capture&quot;: &quot;2023-11-07&quot;, &quot;filename&quot;: &quot;timelapse/nicfi_2016-06-01_2023-11-07_-15.229243525230315_-68.39472055435182.mp4&quot;}, &quot;type&quot;: &quot;Feature&quot;}, {&quot;bbox&quot;: [-68.58779668807985, -14.508064137204057, -68.58779668807985, -14.508064137204057], &quot;geometry&quot;: {&quot;coordinates&quot;: [-68.58779668807985, -14.508064137204057], &quot;type&quot;: &quot;Point&quot;}, &quot;id&quot;: &quot;91&quot;, &quot;properties&quot;: {&quot;__folium_color&quot;: &quot;blue&quot;, &quot;area_protegida&quot;: &quot;Madidi&quot;, &quot;capture&quot;: &quot;2023-11-07&quot;, &quot;filename&quot;: &quot;timelapse/nicfi_2016-06-01_2023-11-07_-14.508064137204057_-68.58779668807985.mp4&quot;}, &quot;type&quot;: &quot;Feature&quot;}, {&quot;bbox&quot;: [-68.698947429657, -14.094539906005577, -68.698947429657, -14.094539906005577], &quot;geometry&quot;: {&quot;coordinates&quot;: [-68.698947429657, -14.094539906005577], &quot;type&quot;: &quot;Point&quot;}, &quot;id&quot;: &quot;92&quot;, &quot;properties&quot;: {&quot;__folium_color&quot;: &quot;blue&quot;, &quot;area_protegida&quot;: &quot;Madidi&quot;, &quot;capture&quot;: &quot;2023-11-07&quot;, &quot;filename&quot;: &quot;timelapse/nicfi_2016-06-01_2023-11-07_-14.094539906005577_-68.698947429657.mp4&quot;}, &quot;type&quot;: &quot;Feature&quot;}, {&quot;bbox&quot;: [-68.35671901702882, -15.316389845403837, -68.35671901702882, -15.316389845403837], &quot;geometry&quot;: {&quot;coordinates&quot;: [-68.35671901702882, -15.316389845403837], &quot;type&quot;: &quot;Point&quot;}, &quot;id&quot;: &quot;93&quot;, &quot;properties&quot;: {&quot;__folium_color&quot;: &quot;blue&quot;, &quot;area_protegida&quot;: null, &quot;capture&quot;: &quot;2023-11-07&quot;, &quot;filename&quot;: &quot;timelapse/nicfi_2016-06-01_2023-11-07_-15.316389845403837_-68.35671901702882.mp4&quot;}, &quot;type&quot;: &quot;Feature&quot;}, {&quot;bbox&quot;: [-67.70946979522706, -15.4598019749471, -67.70946979522706, -15.4598019749471], &quot;geometry&quot;: {&quot;coordinates&quot;: [-67.70946979522706, -15.4598019749471], &quot;type&quot;: &quot;Point&quot;}, &quot;id&quot;: &quot;94&quot;, &quot;properties&quot;: {&quot;__folium_color&quot;: &quot;blue&quot;, &quot;area_protegida&quot;: null, &quot;capture&quot;: &quot;2023-11-07&quot;, &quot;filename&quot;: &quot;timelapse/nicfi_2016-06-01_2023-11-07_-15.4598019749471_-67.70946979522706.mp4&quot;}, &quot;type&quot;: &quot;Feature&quot;}, {&quot;bbox&quot;: [-68.05345773696901, -14.243502823857854, -68.05345773696901, -14.243502823857854], &quot;geometry&quot;: {&quot;coordinates&quot;: [-68.05345773696901, -14.243502823857854], &quot;type&quot;: &quot;Point&quot;}, &quot;id&quot;: &quot;95&quot;, &quot;properties&quot;: {&quot;__folium_color&quot;: &quot;blue&quot;, &quot;area_protegida&quot;: &quot;Madidi&quot;, &quot;capture&quot;: &quot;2023-11-07&quot;, &quot;filename&quot;: &quot;timelapse/nicfi_2016-06-01_2023-11-07_-14.243502823857854_-68.05345773696901.mp4&quot;}, &quot;type&quot;: &quot;Feature&quot;}, {&quot;bbox&quot;: [-69.12256479263307, -15.23682110159925, -69.12256479263307, -15.23682110159925], &quot;geometry&quot;: {&quot;coordinates&quot;: [-69.12256479263307, -15.23682110159925], &quot;type&quot;: &quot;Point&quot;}, &quot;id&quot;: &quot;96&quot;, &quot;properties&quot;: {&quot;__folium_color&quot;: &quot;blue&quot;, &quot;area_protegida&quot;: &quot;Apolobamba&quot;, &quot;capture&quot;: &quot;2023-11-07&quot;, &quot;filename&quot;: &quot;timelapse/nicfi_2016-06-01_2023-11-07_-15.23682110159925_-69.12256479263307.mp4&quot;}, &quot;type&quot;: &quot;Feature&quot;}, {&quot;bbox&quot;: [-68.45671176910402, -15.042865584098573, -68.45671176910402, -15.042865584098573], &quot;geometry&quot;: {&quot;coordinates&quot;: [-68.45671176910402, -15.042865584098573], &quot;type&quot;: &quot;Point&quot;}, &quot;id&quot;: &quot;97&quot;, &quot;properties&quot;: {&quot;__folium_color&quot;: &quot;blue&quot;, &quot;area_protegida&quot;: null, &quot;capture&quot;: &quot;2023-11-07&quot;, &quot;filename&quot;: &quot;timelapse/nicfi_2016-06-01_2023-11-07_-15.042865584098573_-68.45671176910402.mp4&quot;}, &quot;type&quot;: &quot;Feature&quot;}, {&quot;bbox&quot;: [-68.1329369544983, -15.49566021596323, -68.1329369544983, -15.49566021596323], &quot;geometry&quot;: {&quot;coordinates&quot;: [-68.1329369544983, -15.49566021596323], &quot;type&quot;: &quot;Point&quot;}, &quot;id&quot;: &quot;98&quot;, &quot;properties&quot;: {&quot;__folium_color&quot;: &quot;blue&quot;, &quot;area_protegida&quot;: null, &quot;capture&quot;: &quot;2023-11-07&quot;, &quot;filename&quot;: &quot;timelapse/nicfi_2016-06-01_2023-11-07_-15.49566021596323_-68.1329369544983.mp4&quot;}, &quot;type&quot;: &quot;Feature&quot;}, {&quot;bbox&quot;: [-68.3012080192566, -15.260338834617146, -68.3012080192566, -15.260338834617146], &quot;geometry&quot;: {&quot;coordinates&quot;: [-68.3012080192566, -15.260338834617146], &quot;type&quot;: &quot;Point&quot;}, &quot;id&quot;: &quot;99&quot;, &quot;properties&quot;: {&quot;__folium_color&quot;: &quot;blue&quot;, &quot;area_protegida&quot;: &quot;Apolobamba&quot;, &quot;capture&quot;: &quot;2023-11-07&quot;, &quot;filename&quot;: &quot;timelapse/nicfi_2016-06-01_2023-11-07_-15.260338834617146_-68.3012080192566.mp4&quot;}, &quot;type&quot;: &quot;Feature&quot;}, {&quot;bbox&quot;: [-68.18022966384889, -14.159920865600386, -68.18022966384889, -14.159920865600386], &quot;geometry&quot;: {&quot;coordinates&quot;: [-68.18022966384889, -14.159920865600386], &quot;type&quot;: &quot;Point&quot;}, &quot;id&quot;: &quot;100&quot;, &quot;properties&quot;: {&quot;__folium_color&quot;: &quot;blue&quot;, &quot;area_protegida&quot;: &quot;Madidi&quot;, &quot;capture&quot;: &quot;2023-11-07&quot;, &quot;filename&quot;: &quot;timelapse/nicfi_2016-06-01_2023-11-07_-14.159920865600386_-68.18022966384889.mp4&quot;}, &quot;type&quot;: &quot;Feature&quot;}, {&quot;bbox&quot;: [-68.41001987457277, -15.302399195208373, -68.41001987457277, -15.302399195208373], &quot;geometry&quot;: {&quot;coordinates&quot;: [-68.41001987457277, -15.302399195208373], &quot;type&quot;: &quot;Point&quot;}, &quot;id&quot;: &quot;101&quot;, &quot;properties&quot;: {&quot;__folium_color&quot;: &quot;blue&quot;, &quot;area_protegida&quot;: null, &quot;capture&quot;: &quot;2023-11-07&quot;, &quot;filename&quot;: &quot;timelapse/nicfi_2016-06-01_2023-11-07_-15.302399195208373_-68.41001987457277.mp4&quot;}, &quot;type&quot;: &quot;Feature&quot;}, {&quot;bbox&quot;: [-68.2887625694275, -15.228580991919973, -68.2887625694275, -15.228580991919973], &quot;geometry&quot;: {&quot;coordinates&quot;: [-68.2887625694275, -15.228580991919973], &quot;type&quot;: &quot;Point&quot;}, &quot;id&quot;: &quot;102&quot;, &quot;properties&quot;: {&quot;__folium_color&quot;: &quot;blue&quot;, &quot;area_protegida&quot;: &quot;Apolobamba&quot;, &quot;capture&quot;: &quot;2023-11-07&quot;, &quot;filename&quot;: &quot;timelapse/nicfi_2016-06-01_2023-11-07_-15.228580991919973_-68.2887625694275.mp4&quot;}, &quot;type&quot;: &quot;Feature&quot;}, {&quot;bbox&quot;: [-67.68183231353761, -15.10079741732208, -67.68183231353761, -15.10079741732208], &quot;geometry&quot;: {&quot;coordinates&quot;: [-67.68183231353761, -15.10079741732208], &quot;type&quot;: &quot;Point&quot;}, &quot;id&quot;: &quot;103&quot;, &quot;properties&quot;: {&quot;__folium_color&quot;: &quot;blue&quot;, &quot;area_protegida&quot;: null, &quot;capture&quot;: &quot;2023-11-07&quot;, &quot;filename&quot;: &quot;timelapse/nicfi_2016-06-01_2023-11-07_-15.10079741732208_-67.68183231353761.mp4&quot;}, &quot;type&quot;: &quot;Feature&quot;}, {&quot;bbox&quot;: [-68.32841634750368, -15.240671896465317, -68.32841634750368, -15.240671896465317], &quot;geometry&quot;: {&quot;coordinates&quot;: [-68.32841634750368, -15.240671896465317], &quot;type&quot;: &quot;Point&quot;}, &quot;id&quot;: &quot;104&quot;, &quot;properties&quot;: {&quot;__folium_color&quot;: &quot;blue&quot;, &quot;area_protegida&quot;: &quot;Apolobamba&quot;, &quot;capture&quot;: &quot;2023-11-07&quot;, &quot;filename&quot;: &quot;timelapse/nicfi_2016-06-01_2023-11-07_-15.240671896465317_-68.32841634750368.mp4&quot;}, &quot;type&quot;: &quot;Feature&quot;}, {&quot;bbox&quot;: [-68.54410886764528, -14.288546874043261, -68.54410886764528, -14.288546874043261], &quot;geometry&quot;: {&quot;coordinates&quot;: [-68.54410886764528, -14.288546874043261], &quot;type&quot;: &quot;Point&quot;}, &quot;id&quot;: &quot;105&quot;, &quot;properties&quot;: {&quot;__folium_color&quot;: &quot;blue&quot;, &quot;area_protegida&quot;: &quot;Madidi&quot;, &quot;capture&quot;: &quot;2023-11-07&quot;, &quot;filename&quot;: &quot;timelapse/nicfi_2016-06-01_2023-11-07_-14.288546874043261_-68.54410886764528.mp4&quot;}, &quot;type&quot;: &quot;Feature&quot;}, {&quot;bbox&quot;: [-68.84878635406496, -15.168157479939227, -68.84878635406496, -15.168157479939227], &quot;geometry&quot;: {&quot;coordinates&quot;: [-68.84878635406496, -15.168157479939227], &quot;type&quot;: &quot;Point&quot;}, &quot;id&quot;: &quot;106&quot;, &quot;properties&quot;: {&quot;__folium_color&quot;: &quot;blue&quot;, &quot;area_protegida&quot;: &quot;Apolobamba&quot;, &quot;capture&quot;: &quot;2023-11-07&quot;, &quot;filename&quot;: &quot;timelapse/nicfi_2016-06-01_2023-11-07_-15.168157479939227_-68.84878635406496.mp4&quot;}, &quot;type&quot;: &quot;Feature&quot;}, {&quot;bbox&quot;: [-68.68907690048219, -14.52684252871225, -68.68907690048219, -14.52684252871225], &quot;geometry&quot;: {&quot;coordinates&quot;: [-68.68907690048219, -14.52684252871225], &quot;type&quot;: &quot;Point&quot;}, &quot;id&quot;: &quot;107&quot;, &quot;properties&quot;: {&quot;__folium_color&quot;: &quot;blue&quot;, &quot;area_protegida&quot;: &quot;Madidi&quot;, &quot;capture&quot;: &quot;2023-11-07&quot;, &quot;filename&quot;: &quot;timelapse/nicfi_2016-06-01_2023-11-07_-14.52684252871225_-68.68907690048219.mp4&quot;}, &quot;type&quot;: &quot;Feature&quot;}, {&quot;bbox&quot;: [-68.98182392120363, -14.405170225980743, -68.98182392120363, -14.405170225980743], &quot;geometry&quot;: {&quot;coordinates&quot;: [-68.98182392120363, -14.405170225980743], &quot;type&quot;: &quot;Point&quot;}, &quot;id&quot;: &quot;108&quot;, &quot;properties&quot;: {&quot;__folium_color&quot;: &quot;blue&quot;, &quot;area_protegida&quot;: &quot;Madidi&quot;, &quot;capture&quot;: &quot;2023-11-07&quot;, &quot;filename&quot;: &quot;timelapse/nicfi_2016-06-01_2023-11-07_-14.405170225980743_-68.98182392120363.mp4&quot;}, &quot;type&quot;: &quot;Feature&quot;}, {&quot;bbox&quot;: [-68.09757471084596, -15.594765292612184, -68.09757471084596, -15.594765292612184], &quot;geometry&quot;: {&quot;coordinates&quot;: [-68.09757471084596, -15.594765292612184], &quot;type&quot;: &quot;Point&quot;}, &quot;id&quot;: &quot;109&quot;, &quot;properties&quot;: {&quot;__folium_color&quot;: &quot;blue&quot;, &quot;area_protegida&quot;: null, &quot;capture&quot;: &quot;2023-11-07&quot;, &quot;filename&quot;: &quot;timelapse/nicfi_2016-06-01_2023-11-07_-15.594765292612184_-68.09757471084596.mp4&quot;}, &quot;type&quot;: &quot;Feature&quot;}, {&quot;bbox&quot;: [-67.90104389190675, -15.476263622994162, -67.90104389190675, -15.476263622994162], &quot;geometry&quot;: {&quot;coordinates&quot;: [-67.90104389190675, -15.476263622994162], &quot;type&quot;: &quot;Point&quot;}, &quot;id&quot;: &quot;110&quot;, &quot;properties&quot;: {&quot;__folium_color&quot;: &quot;blue&quot;, &quot;area_protegida&quot;: null, &quot;capture&quot;: &quot;2023-11-07&quot;, &quot;filename&quot;: &quot;timelapse/nicfi_2016-06-01_2023-11-07_-15.476263622994162_-67.90104389190675.mp4&quot;}, &quot;type&quot;: &quot;Feature&quot;}, {&quot;bbox&quot;: [-69.03418064117433, -14.61896644491206, -69.03418064117433, -14.61896644491206], &quot;geometry&quot;: {&quot;coordinates&quot;: [-69.03418064117433, -14.61896644491206], &quot;type&quot;: &quot;Point&quot;}, &quot;id&quot;: &quot;111&quot;, &quot;properties&quot;: {&quot;__folium_color&quot;: &quot;blue&quot;, &quot;area_protegida&quot;: &quot;Madidi&quot;, &quot;capture&quot;: &quot;2023-11-07&quot;, &quot;filename&quot;: &quot;timelapse/nicfi_2016-06-01_2023-11-07_-14.61896644491206_-69.03418064117433.mp4&quot;}, &quot;type&quot;: &quot;Feature&quot;}, {&quot;bbox&quot;: [-68.55273485183717, -14.324766896077024, -68.55273485183717, -14.324766896077024], &quot;geometry&quot;: {&quot;coordinates&quot;: [-68.55273485183717, -14.324766896077024], &quot;type&quot;: &quot;Point&quot;}, &quot;id&quot;: &quot;112&quot;, &quot;properties&quot;: {&quot;__folium_color&quot;: &quot;blue&quot;, &quot;area_protegida&quot;: &quot;Madidi&quot;, &quot;capture&quot;: &quot;2023-11-07&quot;, &quot;filename&quot;: &quot;timelapse/nicfi_2016-06-01_2023-11-07_-14.324766896077024_-68.55273485183717.mp4&quot;}, &quot;type&quot;: &quot;Feature&quot;}, {&quot;bbox&quot;: [-67.67651081085206, -15.219677998288653, -67.67651081085206, -15.219677998288653], &quot;geometry&quot;: {&quot;coordinates&quot;: [-67.67651081085206, -15.219677998288653], &quot;type&quot;: &quot;Point&quot;}, &quot;id&quot;: &quot;113&quot;, &quot;properties&quot;: {&quot;__folium_color&quot;: &quot;blue&quot;, &quot;area_protegida&quot;: null, &quot;capture&quot;: &quot;2023-11-07&quot;, &quot;filename&quot;: &quot;timelapse/nicfi_2016-06-01_2023-11-07_-15.219677998288653_-67.67651081085206.mp4&quot;}, &quot;type&quot;: &quot;Feature&quot;}, {&quot;bbox&quot;: [-68.69315385818483, -14.546408580795678, -68.69315385818483, -14.546408580795678], &quot;geometry&quot;: {&quot;coordinates&quot;: [-68.69315385818483, -14.546408580795678], &quot;type&quot;: &quot;Point&quot;}, &quot;id&quot;: &quot;114&quot;, &quot;properties&quot;: {&quot;__folium_color&quot;: &quot;blue&quot;, &quot;area_protegida&quot;: &quot;Madidi&quot;, &quot;capture&quot;: &quot;2023-11-07&quot;, &quot;filename&quot;: &quot;timelapse/nicfi_2016-06-01_2023-11-07_-14.546408580795678_-68.69315385818483.mp4&quot;}, &quot;type&quot;: &quot;Feature&quot;}, {&quot;bbox&quot;: [-68.54857206344606, -14.306803160348293, -68.54857206344606, -14.306803160348293], &quot;geometry&quot;: {&quot;coordinates&quot;: [-68.54857206344606, -14.306803160348293], &quot;type&quot;: &quot;Point&quot;}, &quot;id&quot;: &quot;115&quot;, &quot;properties&quot;: {&quot;__folium_color&quot;: &quot;blue&quot;, &quot;area_protegida&quot;: &quot;Madidi&quot;, &quot;capture&quot;: &quot;2023-11-07&quot;, &quot;filename&quot;: &quot;timelapse/nicfi_2016-06-01_2023-11-07_-14.306803160348293_-68.54857206344606.mp4&quot;}, &quot;type&quot;: &quot;Feature&quot;}, {&quot;bbox&quot;: [-68.77855539321901, -13.967636651200555, -68.77855539321901, -13.967636651200555], &quot;geometry&quot;: {&quot;coordinates&quot;: [-68.77855539321901, -13.967636651200555], &quot;type&quot;: &quot;Point&quot;}, &quot;id&quot;: &quot;116&quot;, &quot;properties&quot;: {&quot;__folium_color&quot;: &quot;blue&quot;, &quot;area_protegida&quot;: &quot;Madidi&quot;, &quot;capture&quot;: &quot;2023-11-07&quot;, &quot;filename&quot;: &quot;timelapse/nicfi_2016-06-01_2023-11-07_-13.967636651200555_-68.77855539321901.mp4&quot;}, &quot;type&quot;: &quot;Feature&quot;}, {&quot;bbox&quot;: [-68.5639786720276, -14.595669130385879, -68.5639786720276, -14.595669130385879], &quot;geometry&quot;: {&quot;coordinates&quot;: [-68.5639786720276, -14.595669130385879], &quot;type&quot;: &quot;Point&quot;}, &quot;id&quot;: &quot;117&quot;, &quot;properties&quot;: {&quot;__folium_color&quot;: &quot;blue&quot;, &quot;area_protegida&quot;: &quot;Madidi&quot;, &quot;capture&quot;: &quot;2023-11-07&quot;, &quot;filename&quot;: &quot;timelapse/nicfi_2016-06-01_2023-11-07_-14.595669130385879_-68.5639786720276.mp4&quot;}, &quot;type&quot;: &quot;Feature&quot;}, {&quot;bbox&quot;: [-68.53930234909059, -14.246040170216832, -68.53930234909059, -14.246040170216832], &quot;geometry&quot;: {&quot;coordinates&quot;: [-68.53930234909059, -14.246040170216832], &quot;type&quot;: &quot;Point&quot;}, &quot;id&quot;: &quot;118&quot;, &quot;properties&quot;: {&quot;__folium_color&quot;: &quot;blue&quot;, &quot;area_protegida&quot;: &quot;Madidi&quot;, &quot;capture&quot;: &quot;2023-11-07&quot;, &quot;filename&quot;: &quot;timelapse/nicfi_2016-06-01_2023-11-07_-14.246040170216832_-68.53930234909059.mp4&quot;}, &quot;type&quot;: &quot;Feature&quot;}, {&quot;bbox&quot;: [-68.56024503707887, -14.346180118486584, -68.56024503707887, -14.346180118486584], &quot;geometry&quot;: {&quot;coordinates&quot;: [-68.56024503707887, -14.346180118486584], &quot;type&quot;: &quot;Point&quot;}, &quot;id&quot;: &quot;119&quot;, &quot;properties&quot;: {&quot;__folium_color&quot;: &quot;blue&quot;, &quot;area_protegida&quot;: &quot;Madidi&quot;, &quot;capture&quot;: &quot;2023-11-07&quot;, &quot;filename&quot;: &quot;timelapse/nicfi_2016-06-01_2023-11-07_-14.346180118486584_-68.56024503707887.mp4&quot;}, &quot;type&quot;: &quot;Feature&quot;}, {&quot;bbox&quot;: [-68.74920129776002, -14.000326779392264, -68.74920129776002, -14.000326779392264], &quot;geometry&quot;: {&quot;coordinates&quot;: [-68.74920129776002, -14.000326779392264], &quot;type&quot;: &quot;Point&quot;}, &quot;id&quot;: &quot;120&quot;, &quot;properties&quot;: {&quot;__folium_color&quot;: &quot;blue&quot;, &quot;area_protegida&quot;: &quot;Madidi&quot;, &quot;capture&quot;: &quot;2023-11-07&quot;, &quot;filename&quot;: &quot;timelapse/nicfi_2016-06-01_2023-11-07_-14.000326779392264_-68.74920129776002.mp4&quot;}, &quot;type&quot;: &quot;Feature&quot;}, {&quot;bbox&quot;: [-68.24960231781007, -15.307780325184176, -68.24960231781007, -15.307780325184176], &quot;geometry&quot;: {&quot;coordinates&quot;: [-68.24960231781007, -15.307780325184176], &quot;type&quot;: &quot;Point&quot;}, &quot;id&quot;: &quot;121&quot;, &quot;properties&quot;: {&quot;__folium_color&quot;: &quot;blue&quot;, &quot;area_protegida&quot;: null, &quot;capture&quot;: &quot;2023-11-07&quot;, &quot;filename&quot;: &quot;timelapse/nicfi_2016-06-01_2023-11-07_-15.307780325184176_-68.24960231781007.mp4&quot;}, &quot;type&quot;: &quot;Feature&quot;}], &quot;type&quot;: &quot;FeatureCollection&quot;});\n",
       "\n",
       "        \n",
       "    \n",
       "    geo_json_0964d3fe48fa81f13b64c8aa697f2aaa.bindTooltip(\n",
       "    function(layer){\n",
       "    let div = L.DomUtil.create(&#x27;div&#x27;);\n",
       "    \n",
       "    let handleObject = feature=&gt;typeof(feature)==&#x27;object&#x27; ? JSON.stringify(feature) : feature;\n",
       "    let fields = [&quot;filename&quot;, &quot;capture&quot;, &quot;area_protegida&quot;];\n",
       "    let aliases = [&quot;filename&quot;, &quot;capture&quot;, &quot;area_protegida&quot;];\n",
       "    let table = &#x27;&lt;table&gt;&#x27; +\n",
       "        String(\n",
       "        fields.map(\n",
       "        (v,i)=&gt;\n",
       "        `&lt;tr&gt;\n",
       "            &lt;th&gt;${aliases[i]}&lt;/th&gt;\n",
       "            \n",
       "            &lt;td&gt;${handleObject(layer.feature.properties[v])}&lt;/td&gt;\n",
       "        &lt;/tr&gt;`).join(&#x27;&#x27;))\n",
       "    +&#x27;&lt;/table&gt;&#x27;;\n",
       "    div.innerHTML=table;\n",
       "    \n",
       "    return div\n",
       "    }\n",
       "    ,{&quot;className&quot;: &quot;foliumtooltip&quot;, &quot;sticky&quot;: true});\n",
       "                     \n",
       "    \n",
       "                geo_json_0964d3fe48fa81f13b64c8aa697f2aaa.addTo(map_a2cde9e9904cd4b039293539f6b17f96);\n",
       "    \n",
       "        function geo_json_4d32001687bcc1ff1e14597ac2f119ab_styler(feature) {\n",
       "            switch(feature.id) {\n",
       "                default:\n",
       "                    return {&quot;color&quot;: &quot;red&quot;, &quot;fillColor&quot;: &quot;red&quot;, &quot;fillOpacity&quot;: 0.5, &quot;weight&quot;: 2};\n",
       "            }\n",
       "        }\n",
       "        function geo_json_4d32001687bcc1ff1e14597ac2f119ab_highlighter(feature) {\n",
       "            switch(feature.id) {\n",
       "                default:\n",
       "                    return {&quot;fillOpacity&quot;: 0.75};\n",
       "            }\n",
       "        }\n",
       "        function geo_json_4d32001687bcc1ff1e14597ac2f119ab_pointToLayer(feature, latlng) {\n",
       "            var opts = {&quot;bubblingMouseEvents&quot;: true, &quot;color&quot;: &quot;#3388ff&quot;, &quot;dashArray&quot;: null, &quot;dashOffset&quot;: null, &quot;fill&quot;: true, &quot;fillColor&quot;: &quot;#3388ff&quot;, &quot;fillOpacity&quot;: 0.2, &quot;fillRule&quot;: &quot;evenodd&quot;, &quot;lineCap&quot;: &quot;round&quot;, &quot;lineJoin&quot;: &quot;round&quot;, &quot;opacity&quot;: 1.0, &quot;radius&quot;: 5, &quot;stroke&quot;: true, &quot;weight&quot;: 3};\n",
       "            \n",
       "            let style = geo_json_4d32001687bcc1ff1e14597ac2f119ab_styler(feature)\n",
       "            Object.assign(opts, style)\n",
       "            \n",
       "            return new L.CircleMarker(latlng, opts)\n",
       "        }\n",
       "\n",
       "        function geo_json_4d32001687bcc1ff1e14597ac2f119ab_onEachFeature(feature, layer) {\n",
       "            layer.on({\n",
       "                mouseout: function(e) {\n",
       "                    if(typeof e.target.setStyle === &quot;function&quot;){\n",
       "                        geo_json_4d32001687bcc1ff1e14597ac2f119ab.resetStyle(e.target);\n",
       "                    }\n",
       "                },\n",
       "                mouseover: function(e) {\n",
       "                    if(typeof e.target.setStyle === &quot;function&quot;){\n",
       "                        const highlightStyle = geo_json_4d32001687bcc1ff1e14597ac2f119ab_highlighter(e.target.feature)\n",
       "                        e.target.setStyle(highlightStyle);\n",
       "                    }\n",
       "                },\n",
       "            });\n",
       "        };\n",
       "        var geo_json_4d32001687bcc1ff1e14597ac2f119ab = L.geoJson(null, {\n",
       "                onEachFeature: geo_json_4d32001687bcc1ff1e14597ac2f119ab_onEachFeature,\n",
       "            \n",
       "                style: geo_json_4d32001687bcc1ff1e14597ac2f119ab_styler,\n",
       "                pointToLayer: geo_json_4d32001687bcc1ff1e14597ac2f119ab_pointToLayer,\n",
       "        });\n",
       "\n",
       "        function geo_json_4d32001687bcc1ff1e14597ac2f119ab_add (data) {\n",
       "            geo_json_4d32001687bcc1ff1e14597ac2f119ab\n",
       "                .addData(data);\n",
       "        }\n",
       "            geo_json_4d32001687bcc1ff1e14597ac2f119ab_add({&quot;bbox&quot;: [-68.92238616943361, -12.56394654151914, -68.92238616943361, -12.56394654151914], &quot;features&quot;: [{&quot;bbox&quot;: [-68.92238616943361, -12.56394654151914, -68.92238616943361, -12.56394654151914], &quot;geometry&quot;: {&quot;coordinates&quot;: [-68.92238616943361, -12.56394654151914], &quot;type&quot;: &quot;Point&quot;}, &quot;id&quot;: &quot;0&quot;, &quot;properties&quot;: {&quot;__folium_color&quot;: &quot;red&quot;}, &quot;type&quot;: &quot;Feature&quot;}], &quot;type&quot;: &quot;FeatureCollection&quot;});\n",
       "\n",
       "        \n",
       "    \n",
       "    geo_json_4d32001687bcc1ff1e14597ac2f119ab.bindTooltip(\n",
       "    function(layer){\n",
       "    let div = L.DomUtil.create(&#x27;div&#x27;);\n",
       "    \n",
       "    return div\n",
       "    }\n",
       "    ,{&quot;className&quot;: &quot;foliumtooltip&quot;, &quot;sticky&quot;: true});\n",
       "                     \n",
       "    \n",
       "                geo_json_4d32001687bcc1ff1e14597ac2f119ab.addTo(map_a2cde9e9904cd4b039293539f6b17f96);\n",
       "&lt;/script&gt;\n",
       "&lt;/html&gt;\" style=\"position:absolute;width:100%;height:100%;left:0;top:0;border:none !important;\" allowfullscreen webkitallowfullscreen mozallowfullscreen></iframe></div></div>"
      ],
      "text/plain": [
       "<folium.folium.Map at 0x7ffb6f1d9150>"
      ]
     },
     "execution_count": 383,
     "metadata": {},
     "output_type": "execute_result"
    }
   ],
   "source": [
    "index = create_index()\n",
    "plot_current(index)"
   ]
  },
  {
   "cell_type": "markdown",
   "id": "d019686e-6920-411c-83e6-8e5813550e17",
   "metadata": {
    "tags": [],
    "user_expressions": []
   },
   "source": [
    "El índice con todas las capturas ..."
   ]
  },
  {
   "cell_type": "code",
   "execution_count": 384,
   "id": "d42b4acf-e1dd-445b-b2d4-7f6d454a6207",
   "metadata": {
    "tags": []
   },
   "outputs": [
    {
     "data": {
      "text/html": [
       "\n",
       "            <style>\n",
       "                .geemap-dark {\n",
       "                    --jp-widgets-color: white;\n",
       "                    --jp-widgets-label-color: white;\n",
       "                    --jp-ui-font-color1: white;\n",
       "                    --jp-layout-color2: #454545;\n",
       "                    background-color: #383838;\n",
       "                }\n",
       "                    \n",
       "                .geemap-dark .jupyter-button {\n",
       "                    --jp-layout-color3: #383838;\n",
       "                }\n",
       "                \n",
       "                .geemap-colab {\n",
       "                    background-color: var(--colab-primary-surface-color, white);\n",
       "                }\n",
       "                    \n",
       "                .geemap-colab .jupyter-button {\n",
       "                    --jp-layout-color3: var(--colab-primary-surface-color, white);\n",
       "                }\n",
       "            </style>\n",
       "            "
      ],
      "text/plain": [
       "<IPython.core.display.HTML object>"
      ]
     },
     "metadata": {},
     "output_type": "display_data"
    },
    {
     "data": {
      "text/html": [
       "<div>\n",
       "<style scoped>\n",
       "    .dataframe tbody tr th:only-of-type {\n",
       "        vertical-align: middle;\n",
       "    }\n",
       "\n",
       "    .dataframe tbody tr th {\n",
       "        vertical-align: top;\n",
       "    }\n",
       "\n",
       "    .dataframe thead th {\n",
       "        text-align: right;\n",
       "    }\n",
       "</style>\n",
       "<table border=\"1\" class=\"dataframe\">\n",
       "  <thead>\n",
       "    <tr style=\"text-align: right;\">\n",
       "      <th></th>\n",
       "      <th>filename</th>\n",
       "      <th>capture</th>\n",
       "      <th>geometry</th>\n",
       "      <th>area_protegida</th>\n",
       "    </tr>\n",
       "  </thead>\n",
       "  <tbody>\n",
       "    <tr>\n",
       "      <th>0</th>\n",
       "      <td>timelapse/nicfi_2016-06-01_2023-11-07_-13.9162...</td>\n",
       "      <td>2023-11-07</td>\n",
       "      <td>POINT (-68.83713 -13.91624)</td>\n",
       "      <td>Madidi</td>\n",
       "    </tr>\n",
       "    <tr>\n",
       "      <th>1</th>\n",
       "      <td>timelapse/nicfi_2016-06-01_2023-11-07_-15.5750...</td>\n",
       "      <td>2023-11-07</td>\n",
       "      <td>POINT (-68.03196 -15.57509)</td>\n",
       "      <td>NaN</td>\n",
       "    </tr>\n",
       "    <tr>\n",
       "      <th>2</th>\n",
       "      <td>timelapse/nicfi_2016-06-01_2023-11-07_-14.9907...</td>\n",
       "      <td>2023-11-07</td>\n",
       "      <td>POINT (-68.56623 -14.99072)</td>\n",
       "      <td>Apolobamba</td>\n",
       "    </tr>\n",
       "    <tr>\n",
       "      <th>3</th>\n",
       "      <td>timelapse/nicfi_2016-06-01_2023-11-07_-15.2282...</td>\n",
       "      <td>2023-11-07</td>\n",
       "      <td>POINT (-68.37386 -15.22821)</td>\n",
       "      <td>Apolobamba</td>\n",
       "    </tr>\n",
       "    <tr>\n",
       "      <th>4</th>\n",
       "      <td>timelapse/nicfi_2016-06-01_2023-11-07_-15.1985...</td>\n",
       "      <td>2023-11-07</td>\n",
       "      <td>POINT (-68.80596 -15.19856)</td>\n",
       "      <td>Apolobamba</td>\n",
       "    </tr>\n",
       "    <tr>\n",
       "      <th>...</th>\n",
       "      <td>...</td>\n",
       "      <td>...</td>\n",
       "      <td>...</td>\n",
       "      <td>...</td>\n",
       "    </tr>\n",
       "    <tr>\n",
       "      <th>117</th>\n",
       "      <td>timelapse/nicfi_2016-06-01_2023-11-07_-14.5956...</td>\n",
       "      <td>2023-11-07</td>\n",
       "      <td>POINT (-68.56398 -14.59567)</td>\n",
       "      <td>Madidi</td>\n",
       "    </tr>\n",
       "    <tr>\n",
       "      <th>118</th>\n",
       "      <td>timelapse/nicfi_2016-06-01_2023-11-07_-14.2460...</td>\n",
       "      <td>2023-11-07</td>\n",
       "      <td>POINT (-68.53930 -14.24604)</td>\n",
       "      <td>Madidi</td>\n",
       "    </tr>\n",
       "    <tr>\n",
       "      <th>119</th>\n",
       "      <td>timelapse/nicfi_2016-06-01_2023-11-07_-14.3461...</td>\n",
       "      <td>2023-11-07</td>\n",
       "      <td>POINT (-68.56025 -14.34618)</td>\n",
       "      <td>Madidi</td>\n",
       "    </tr>\n",
       "    <tr>\n",
       "      <th>120</th>\n",
       "      <td>timelapse/nicfi_2016-06-01_2023-11-07_-14.0003...</td>\n",
       "      <td>2023-11-07</td>\n",
       "      <td>POINT (-68.74920 -14.00033)</td>\n",
       "      <td>Madidi</td>\n",
       "    </tr>\n",
       "    <tr>\n",
       "      <th>121</th>\n",
       "      <td>timelapse/nicfi_2016-06-01_2023-11-07_-15.3077...</td>\n",
       "      <td>2023-11-07</td>\n",
       "      <td>POINT (-68.24960 -15.30778)</td>\n",
       "      <td>NaN</td>\n",
       "    </tr>\n",
       "  </tbody>\n",
       "</table>\n",
       "<p>122 rows × 4 columns</p>\n",
       "</div>"
      ],
      "text/plain": [
       "                                              filename     capture  \\\n",
       "0    timelapse/nicfi_2016-06-01_2023-11-07_-13.9162...  2023-11-07   \n",
       "1    timelapse/nicfi_2016-06-01_2023-11-07_-15.5750...  2023-11-07   \n",
       "2    timelapse/nicfi_2016-06-01_2023-11-07_-14.9907...  2023-11-07   \n",
       "3    timelapse/nicfi_2016-06-01_2023-11-07_-15.2282...  2023-11-07   \n",
       "4    timelapse/nicfi_2016-06-01_2023-11-07_-15.1985...  2023-11-07   \n",
       "..                                                 ...         ...   \n",
       "117  timelapse/nicfi_2016-06-01_2023-11-07_-14.5956...  2023-11-07   \n",
       "118  timelapse/nicfi_2016-06-01_2023-11-07_-14.2460...  2023-11-07   \n",
       "119  timelapse/nicfi_2016-06-01_2023-11-07_-14.3461...  2023-11-07   \n",
       "120  timelapse/nicfi_2016-06-01_2023-11-07_-14.0003...  2023-11-07   \n",
       "121  timelapse/nicfi_2016-06-01_2023-11-07_-15.3077...  2023-11-07   \n",
       "\n",
       "                        geometry area_protegida  \n",
       "0    POINT (-68.83713 -13.91624)         Madidi  \n",
       "1    POINT (-68.03196 -15.57509)            NaN  \n",
       "2    POINT (-68.56623 -14.99072)     Apolobamba  \n",
       "3    POINT (-68.37386 -15.22821)     Apolobamba  \n",
       "4    POINT (-68.80596 -15.19856)     Apolobamba  \n",
       "..                           ...            ...  \n",
       "117  POINT (-68.56398 -14.59567)         Madidi  \n",
       "118  POINT (-68.53930 -14.24604)         Madidi  \n",
       "119  POINT (-68.56025 -14.34618)         Madidi  \n",
       "120  POINT (-68.74920 -14.00033)         Madidi  \n",
       "121  POINT (-68.24960 -15.30778)            NaN  \n",
       "\n",
       "[122 rows x 4 columns]"
      ]
     },
     "execution_count": 384,
     "metadata": {},
     "output_type": "execute_result"
    }
   ],
   "source": [
    "index"
   ]
  },
  {
   "cell_type": "markdown",
   "id": "96797c14-caa1-445a-bd44-55f0db2d9417",
   "metadata": {
    "tags": [],
    "user_expressions": []
   },
   "source": [
    "Que al final guardo para construir otras cosas ... "
   ]
  },
  {
   "cell_type": "code",
   "execution_count": 385,
   "id": "4bfedbea-695c-438e-a1d1-6006bf499be3",
   "metadata": {
    "tags": []
   },
   "outputs": [
    {
     "data": {
      "text/html": [
       "\n",
       "            <style>\n",
       "                .geemap-dark {\n",
       "                    --jp-widgets-color: white;\n",
       "                    --jp-widgets-label-color: white;\n",
       "                    --jp-ui-font-color1: white;\n",
       "                    --jp-layout-color2: #454545;\n",
       "                    background-color: #383838;\n",
       "                }\n",
       "                    \n",
       "                .geemap-dark .jupyter-button {\n",
       "                    --jp-layout-color3: #383838;\n",
       "                }\n",
       "                \n",
       "                .geemap-colab {\n",
       "                    background-color: var(--colab-primary-surface-color, white);\n",
       "                }\n",
       "                    \n",
       "                .geemap-colab .jupyter-button {\n",
       "                    --jp-layout-color3: var(--colab-primary-surface-color, white);\n",
       "                }\n",
       "            </style>\n",
       "            "
      ],
      "text/plain": [
       "<IPython.core.display.HTML object>"
      ]
     },
     "metadata": {},
     "output_type": "display_data"
    }
   ],
   "source": [
    "with open('index.json', 'w+') as f:\n",
    "    f.write(\n",
    "        index[['filename', 'capture', 'area_protegida', 'geometry']].to_json()\n",
    "    )"
   ]
  }
 ],
 "metadata": {
  "kernelspec": {
   "display_name": "Mining",
   "language": "python",
   "name": "mining"
  },
  "language_info": {
   "codemirror_mode": {
    "name": "ipython",
    "version": 3
   },
   "file_extension": ".py",
   "mimetype": "text/x-python",
   "name": "python",
   "nbconvert_exporter": "python",
   "pygments_lexer": "ipython3",
   "version": "3.11.5"
  }
 },
 "nbformat": 4,
 "nbformat_minor": 5
}
